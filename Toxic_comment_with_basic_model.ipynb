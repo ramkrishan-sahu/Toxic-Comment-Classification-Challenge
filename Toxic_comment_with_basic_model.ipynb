{
  "nbformat": 4,
  "nbformat_minor": 0,
  "metadata": {
    "colab": {
      "name": "Toxic comment with basic model.ipynb ",
      "version": "0.3.2",
      "provenance": [],
      "collapsed_sections": [
        "ttxMrFFCoMiF"
      ]
    },
    "kernelspec": {
      "name": "python3",
      "display_name": "Python 3"
    }
  },
  "cells": [
    {
      "cell_type": "code",
      "metadata": {
        "id": "pNrXq0kLj4Ai",
        "colab_type": "code",
        "outputId": "38544394-0563-4867-ec29-53a34f58ccdb",
        "colab": {
          "base_uri": "https://localhost:8080/",
          "height": 124
        }
      },
      "source": [
        "from google.colab import drive\n",
        "drive.mount('/content/gdrive/', force_remount=True)"
      ],
      "execution_count": 1,
      "outputs": [
        {
          "output_type": "stream",
          "text": [
            "Go to this URL in a browser: https://accounts.google.com/o/oauth2/auth?client_id=947318989803-6bn6qk8qdgf4n4g3pfee6491hc0brc4i.apps.googleusercontent.com&redirect_uri=urn%3Aietf%3Awg%3Aoauth%3A2.0%3Aoob&scope=email%20https%3A%2F%2Fwww.googleapis.com%2Fauth%2Fdocs.test%20https%3A%2F%2Fwww.googleapis.com%2Fauth%2Fdrive%20https%3A%2F%2Fwww.googleapis.com%2Fauth%2Fdrive.photos.readonly%20https%3A%2F%2Fwww.googleapis.com%2Fauth%2Fpeopleapi.readonly&response_type=code\n",
            "\n",
            "Enter your authorization code:\n",
            "··········\n",
            "Mounted at /content/gdrive/\n"
          ],
          "name": "stdout"
        }
      ]
    },
    {
      "cell_type": "code",
      "metadata": {
        "id": "l05h3EKAmPhR",
        "colab_type": "code",
        "outputId": "7b82138f-d902-4551-9e54-2e2115d404eb",
        "colab": {
          "base_uri": "https://localhost:8080/",
          "height": 69
        }
      },
      "source": [
        "import nltk \n",
        "nltk.download('stopwords')"
      ],
      "execution_count": 2,
      "outputs": [
        {
          "output_type": "stream",
          "text": [
            "[nltk_data] Downloading package stopwords to /root/nltk_data...\n",
            "[nltk_data]   Unzipping corpora/stopwords.zip.\n"
          ],
          "name": "stdout"
        },
        {
          "output_type": "execute_result",
          "data": {
            "text/plain": [
              "True"
            ]
          },
          "metadata": {
            "tags": []
          },
          "execution_count": 2
        }
      ]
    },
    {
      "cell_type": "code",
      "metadata": {
        "id": "xL_NVNX3l9U7",
        "colab_type": "code",
        "colab": {}
      },
      "source": [
        "from wordcloud import WordCloud ,STOPWORDS\n",
        "from nltk.corpus import stopwords\n",
        "\n",
        "eng_stopwords = set(stopwords.words(\"english\"))\n",
        "\n",
        "import re\n",
        "import string\n",
        "from tqdm import tqdm\n",
        "tqdm.pandas()\n",
        "\n",
        "import numpy as np"
      ],
      "execution_count": 0,
      "outputs": []
    },
    {
      "cell_type": "code",
      "metadata": {
        "id": "BIRQjdESj7BS",
        "colab_type": "code",
        "outputId": "d9b51eb8-2419-4473-f17a-feb5bdf5b02e",
        "colab": {
          "base_uri": "https://localhost:8080/",
          "height": 206
        }
      },
      "source": [
        "import pandas as pd\n",
        "df_train = pd.read_csv(\"gdrive/My Drive/Learning/Sentiment_classifier/jigsaw-toxic-comment-classification-challenge/train.csv\")\n",
        "df_train.head()"
      ],
      "execution_count": 4,
      "outputs": [
        {
          "output_type": "execute_result",
          "data": {
            "text/html": [
              "<div>\n",
              "<style scoped>\n",
              "    .dataframe tbody tr th:only-of-type {\n",
              "        vertical-align: middle;\n",
              "    }\n",
              "\n",
              "    .dataframe tbody tr th {\n",
              "        vertical-align: top;\n",
              "    }\n",
              "\n",
              "    .dataframe thead th {\n",
              "        text-align: right;\n",
              "    }\n",
              "</style>\n",
              "<table border=\"1\" class=\"dataframe\">\n",
              "  <thead>\n",
              "    <tr style=\"text-align: right;\">\n",
              "      <th></th>\n",
              "      <th>id</th>\n",
              "      <th>comment_text</th>\n",
              "      <th>toxic</th>\n",
              "      <th>severe_toxic</th>\n",
              "      <th>obscene</th>\n",
              "      <th>threat</th>\n",
              "      <th>insult</th>\n",
              "      <th>identity_hate</th>\n",
              "    </tr>\n",
              "  </thead>\n",
              "  <tbody>\n",
              "    <tr>\n",
              "      <th>0</th>\n",
              "      <td>0000997932d777bf</td>\n",
              "      <td>Explanation\\nWhy the edits made under my usern...</td>\n",
              "      <td>0</td>\n",
              "      <td>0</td>\n",
              "      <td>0</td>\n",
              "      <td>0</td>\n",
              "      <td>0</td>\n",
              "      <td>0</td>\n",
              "    </tr>\n",
              "    <tr>\n",
              "      <th>1</th>\n",
              "      <td>000103f0d9cfb60f</td>\n",
              "      <td>D'aww! He matches this background colour I'm s...</td>\n",
              "      <td>0</td>\n",
              "      <td>0</td>\n",
              "      <td>0</td>\n",
              "      <td>0</td>\n",
              "      <td>0</td>\n",
              "      <td>0</td>\n",
              "    </tr>\n",
              "    <tr>\n",
              "      <th>2</th>\n",
              "      <td>000113f07ec002fd</td>\n",
              "      <td>Hey man, I'm really not trying to edit war. It...</td>\n",
              "      <td>0</td>\n",
              "      <td>0</td>\n",
              "      <td>0</td>\n",
              "      <td>0</td>\n",
              "      <td>0</td>\n",
              "      <td>0</td>\n",
              "    </tr>\n",
              "    <tr>\n",
              "      <th>3</th>\n",
              "      <td>0001b41b1c6bb37e</td>\n",
              "      <td>\"\\nMore\\nI can't make any real suggestions on ...</td>\n",
              "      <td>0</td>\n",
              "      <td>0</td>\n",
              "      <td>0</td>\n",
              "      <td>0</td>\n",
              "      <td>0</td>\n",
              "      <td>0</td>\n",
              "    </tr>\n",
              "    <tr>\n",
              "      <th>4</th>\n",
              "      <td>0001d958c54c6e35</td>\n",
              "      <td>You, sir, are my hero. Any chance you remember...</td>\n",
              "      <td>0</td>\n",
              "      <td>0</td>\n",
              "      <td>0</td>\n",
              "      <td>0</td>\n",
              "      <td>0</td>\n",
              "      <td>0</td>\n",
              "    </tr>\n",
              "  </tbody>\n",
              "</table>\n",
              "</div>"
            ],
            "text/plain": [
              "                 id  ... identity_hate\n",
              "0  0000997932d777bf  ...             0\n",
              "1  000103f0d9cfb60f  ...             0\n",
              "2  000113f07ec002fd  ...             0\n",
              "3  0001b41b1c6bb37e  ...             0\n",
              "4  0001d958c54c6e35  ...             0\n",
              "\n",
              "[5 rows x 8 columns]"
            ]
          },
          "metadata": {
            "tags": []
          },
          "execution_count": 4
        }
      ]
    },
    {
      "cell_type": "code",
      "metadata": {
        "id": "2uWSny9594uK",
        "colab_type": "code",
        "outputId": "aada7d7d-090b-4d80-8d0d-dae8a944247b",
        "colab": {
          "base_uri": "https://localhost:8080/",
          "height": 112
        }
      },
      "source": [
        "df_sample_submission = pd.read_csv(\"gdrive/My Drive/Learning/Sentiment_classifier/jigsaw-toxic-comment-classification-challenge/sample_submission.csv\")\n",
        "df_sample_submission.head(2)"
      ],
      "execution_count": 5,
      "outputs": [
        {
          "output_type": "execute_result",
          "data": {
            "text/html": [
              "<div>\n",
              "<style scoped>\n",
              "    .dataframe tbody tr th:only-of-type {\n",
              "        vertical-align: middle;\n",
              "    }\n",
              "\n",
              "    .dataframe tbody tr th {\n",
              "        vertical-align: top;\n",
              "    }\n",
              "\n",
              "    .dataframe thead th {\n",
              "        text-align: right;\n",
              "    }\n",
              "</style>\n",
              "<table border=\"1\" class=\"dataframe\">\n",
              "  <thead>\n",
              "    <tr style=\"text-align: right;\">\n",
              "      <th></th>\n",
              "      <th>id</th>\n",
              "      <th>toxic</th>\n",
              "      <th>severe_toxic</th>\n",
              "      <th>obscene</th>\n",
              "      <th>threat</th>\n",
              "      <th>insult</th>\n",
              "      <th>identity_hate</th>\n",
              "    </tr>\n",
              "  </thead>\n",
              "  <tbody>\n",
              "    <tr>\n",
              "      <th>0</th>\n",
              "      <td>00001cee341fdb12</td>\n",
              "      <td>0.5</td>\n",
              "      <td>0.5</td>\n",
              "      <td>0.5</td>\n",
              "      <td>0.5</td>\n",
              "      <td>0.5</td>\n",
              "      <td>0.5</td>\n",
              "    </tr>\n",
              "    <tr>\n",
              "      <th>1</th>\n",
              "      <td>0000247867823ef7</td>\n",
              "      <td>0.5</td>\n",
              "      <td>0.5</td>\n",
              "      <td>0.5</td>\n",
              "      <td>0.5</td>\n",
              "      <td>0.5</td>\n",
              "      <td>0.5</td>\n",
              "    </tr>\n",
              "  </tbody>\n",
              "</table>\n",
              "</div>"
            ],
            "text/plain": [
              "                 id  toxic  severe_toxic  ...  threat  insult  identity_hate\n",
              "0  00001cee341fdb12    0.5           0.5  ...     0.5     0.5            0.5\n",
              "1  0000247867823ef7    0.5           0.5  ...     0.5     0.5            0.5\n",
              "\n",
              "[2 rows x 7 columns]"
            ]
          },
          "metadata": {
            "tags": []
          },
          "execution_count": 5
        }
      ]
    },
    {
      "cell_type": "code",
      "metadata": {
        "id": "UPz_-6vE-AML",
        "colab_type": "code",
        "outputId": "17bea013-7324-45e7-a2b0-25ddf5b17892",
        "colab": {
          "base_uri": "https://localhost:8080/",
          "height": 112
        }
      },
      "source": [
        "df_test_labels = pd.read_csv(\"gdrive/My Drive/Learning/Sentiment_classifier/jigsaw-toxic-comment-classification-challenge/test_labels.csv\")\n",
        "df_test_labels.head(2)"
      ],
      "execution_count": 6,
      "outputs": [
        {
          "output_type": "execute_result",
          "data": {
            "text/html": [
              "<div>\n",
              "<style scoped>\n",
              "    .dataframe tbody tr th:only-of-type {\n",
              "        vertical-align: middle;\n",
              "    }\n",
              "\n",
              "    .dataframe tbody tr th {\n",
              "        vertical-align: top;\n",
              "    }\n",
              "\n",
              "    .dataframe thead th {\n",
              "        text-align: right;\n",
              "    }\n",
              "</style>\n",
              "<table border=\"1\" class=\"dataframe\">\n",
              "  <thead>\n",
              "    <tr style=\"text-align: right;\">\n",
              "      <th></th>\n",
              "      <th>id</th>\n",
              "      <th>toxic</th>\n",
              "      <th>severe_toxic</th>\n",
              "      <th>obscene</th>\n",
              "      <th>threat</th>\n",
              "      <th>insult</th>\n",
              "      <th>identity_hate</th>\n",
              "    </tr>\n",
              "  </thead>\n",
              "  <tbody>\n",
              "    <tr>\n",
              "      <th>0</th>\n",
              "      <td>00001cee341fdb12</td>\n",
              "      <td>-1</td>\n",
              "      <td>-1</td>\n",
              "      <td>-1</td>\n",
              "      <td>-1</td>\n",
              "      <td>-1</td>\n",
              "      <td>-1</td>\n",
              "    </tr>\n",
              "    <tr>\n",
              "      <th>1</th>\n",
              "      <td>0000247867823ef7</td>\n",
              "      <td>-1</td>\n",
              "      <td>-1</td>\n",
              "      <td>-1</td>\n",
              "      <td>-1</td>\n",
              "      <td>-1</td>\n",
              "      <td>-1</td>\n",
              "    </tr>\n",
              "  </tbody>\n",
              "</table>\n",
              "</div>"
            ],
            "text/plain": [
              "                 id  toxic  severe_toxic  ...  threat  insult  identity_hate\n",
              "0  00001cee341fdb12     -1            -1  ...      -1      -1             -1\n",
              "1  0000247867823ef7     -1            -1  ...      -1      -1             -1\n",
              "\n",
              "[2 rows x 7 columns]"
            ]
          },
          "metadata": {
            "tags": []
          },
          "execution_count": 6
        }
      ]
    },
    {
      "cell_type": "code",
      "metadata": {
        "id": "UcvVB9Fm-GJD",
        "colab_type": "code",
        "outputId": "908ff9c2-1a85-4cb0-ffb4-0cf7314f89ea",
        "colab": {
          "base_uri": "https://localhost:8080/",
          "height": 112
        }
      },
      "source": [
        "df_test = pd.read_csv(\"gdrive/My Drive/Learning/Sentiment_classifier/jigsaw-toxic-comment-classification-challenge/test.csv\")\n",
        "df_test.head(2)"
      ],
      "execution_count": 7,
      "outputs": [
        {
          "output_type": "execute_result",
          "data": {
            "text/html": [
              "<div>\n",
              "<style scoped>\n",
              "    .dataframe tbody tr th:only-of-type {\n",
              "        vertical-align: middle;\n",
              "    }\n",
              "\n",
              "    .dataframe tbody tr th {\n",
              "        vertical-align: top;\n",
              "    }\n",
              "\n",
              "    .dataframe thead th {\n",
              "        text-align: right;\n",
              "    }\n",
              "</style>\n",
              "<table border=\"1\" class=\"dataframe\">\n",
              "  <thead>\n",
              "    <tr style=\"text-align: right;\">\n",
              "      <th></th>\n",
              "      <th>id</th>\n",
              "      <th>comment_text</th>\n",
              "    </tr>\n",
              "  </thead>\n",
              "  <tbody>\n",
              "    <tr>\n",
              "      <th>0</th>\n",
              "      <td>00001cee341fdb12</td>\n",
              "      <td>Yo bitch Ja Rule is more succesful then you'll...</td>\n",
              "    </tr>\n",
              "    <tr>\n",
              "      <th>1</th>\n",
              "      <td>0000247867823ef7</td>\n",
              "      <td>== From RfC == \\n\\n The title is fine as it is...</td>\n",
              "    </tr>\n",
              "  </tbody>\n",
              "</table>\n",
              "</div>"
            ],
            "text/plain": [
              "                 id                                       comment_text\n",
              "0  00001cee341fdb12  Yo bitch Ja Rule is more succesful then you'll...\n",
              "1  0000247867823ef7  == From RfC == \\n\\n The title is fine as it is..."
            ]
          },
          "metadata": {
            "tags": []
          },
          "execution_count": 7
        }
      ]
    },
    {
      "cell_type": "code",
      "metadata": {
        "id": "AJoEaBL4kHO6",
        "colab_type": "code",
        "outputId": "b26a4b37-7e96-4fea-c13d-cba6a512d2ad",
        "colab": {
          "base_uri": "https://localhost:8080/",
          "height": 143
        }
      },
      "source": [
        "df_train.head(3)"
      ],
      "execution_count": 8,
      "outputs": [
        {
          "output_type": "execute_result",
          "data": {
            "text/html": [
              "<div>\n",
              "<style scoped>\n",
              "    .dataframe tbody tr th:only-of-type {\n",
              "        vertical-align: middle;\n",
              "    }\n",
              "\n",
              "    .dataframe tbody tr th {\n",
              "        vertical-align: top;\n",
              "    }\n",
              "\n",
              "    .dataframe thead th {\n",
              "        text-align: right;\n",
              "    }\n",
              "</style>\n",
              "<table border=\"1\" class=\"dataframe\">\n",
              "  <thead>\n",
              "    <tr style=\"text-align: right;\">\n",
              "      <th></th>\n",
              "      <th>id</th>\n",
              "      <th>comment_text</th>\n",
              "      <th>toxic</th>\n",
              "      <th>severe_toxic</th>\n",
              "      <th>obscene</th>\n",
              "      <th>threat</th>\n",
              "      <th>insult</th>\n",
              "      <th>identity_hate</th>\n",
              "    </tr>\n",
              "  </thead>\n",
              "  <tbody>\n",
              "    <tr>\n",
              "      <th>0</th>\n",
              "      <td>0000997932d777bf</td>\n",
              "      <td>Explanation\\nWhy the edits made under my usern...</td>\n",
              "      <td>0</td>\n",
              "      <td>0</td>\n",
              "      <td>0</td>\n",
              "      <td>0</td>\n",
              "      <td>0</td>\n",
              "      <td>0</td>\n",
              "    </tr>\n",
              "    <tr>\n",
              "      <th>1</th>\n",
              "      <td>000103f0d9cfb60f</td>\n",
              "      <td>D'aww! He matches this background colour I'm s...</td>\n",
              "      <td>0</td>\n",
              "      <td>0</td>\n",
              "      <td>0</td>\n",
              "      <td>0</td>\n",
              "      <td>0</td>\n",
              "      <td>0</td>\n",
              "    </tr>\n",
              "    <tr>\n",
              "      <th>2</th>\n",
              "      <td>000113f07ec002fd</td>\n",
              "      <td>Hey man, I'm really not trying to edit war. It...</td>\n",
              "      <td>0</td>\n",
              "      <td>0</td>\n",
              "      <td>0</td>\n",
              "      <td>0</td>\n",
              "      <td>0</td>\n",
              "      <td>0</td>\n",
              "    </tr>\n",
              "  </tbody>\n",
              "</table>\n",
              "</div>"
            ],
            "text/plain": [
              "                 id  ... identity_hate\n",
              "0  0000997932d777bf  ...             0\n",
              "1  000103f0d9cfb60f  ...             0\n",
              "2  000113f07ec002fd  ...             0\n",
              "\n",
              "[3 rows x 8 columns]"
            ]
          },
          "metadata": {
            "tags": []
          },
          "execution_count": 8
        }
      ]
    },
    {
      "cell_type": "code",
      "metadata": {
        "id": "icNVtBzJ-Rys",
        "colab_type": "code",
        "outputId": "78acc7f4-05ab-411c-f195-eb3b338bcae5",
        "colab": {
          "base_uri": "https://localhost:8080/",
          "height": 72
        }
      },
      "source": [
        "print(df_train[\"comment_text\"].iloc[0])"
      ],
      "execution_count": 9,
      "outputs": [
        {
          "output_type": "stream",
          "text": [
            "Explanation\n",
            "Why the edits made under my username Hardcore Metallica Fan were reverted? They weren't vandalisms, just closure on some GAs after I voted at New York Dolls FAC. And please don't remove the template from the talk page since I'm retired now.89.205.38.27\n"
          ],
          "name": "stdout"
        }
      ]
    },
    {
      "cell_type": "code",
      "metadata": {
        "id": "8y6CVg3Q-oAn",
        "colab_type": "code",
        "outputId": "ac6a979a-a1b1-46a8-bf86-2d56bbde4ca7",
        "colab": {
          "base_uri": "https://localhost:8080/",
          "height": 206
        }
      },
      "source": [
        "df_train[df_train[\"toxic\"] != 0 ].head()"
      ],
      "execution_count": 10,
      "outputs": [
        {
          "output_type": "execute_result",
          "data": {
            "text/html": [
              "<div>\n",
              "<style scoped>\n",
              "    .dataframe tbody tr th:only-of-type {\n",
              "        vertical-align: middle;\n",
              "    }\n",
              "\n",
              "    .dataframe tbody tr th {\n",
              "        vertical-align: top;\n",
              "    }\n",
              "\n",
              "    .dataframe thead th {\n",
              "        text-align: right;\n",
              "    }\n",
              "</style>\n",
              "<table border=\"1\" class=\"dataframe\">\n",
              "  <thead>\n",
              "    <tr style=\"text-align: right;\">\n",
              "      <th></th>\n",
              "      <th>id</th>\n",
              "      <th>comment_text</th>\n",
              "      <th>toxic</th>\n",
              "      <th>severe_toxic</th>\n",
              "      <th>obscene</th>\n",
              "      <th>threat</th>\n",
              "      <th>insult</th>\n",
              "      <th>identity_hate</th>\n",
              "    </tr>\n",
              "  </thead>\n",
              "  <tbody>\n",
              "    <tr>\n",
              "      <th>6</th>\n",
              "      <td>0002bcb3da6cb337</td>\n",
              "      <td>COCKSUCKER BEFORE YOU PISS AROUND ON MY WORK</td>\n",
              "      <td>1</td>\n",
              "      <td>1</td>\n",
              "      <td>1</td>\n",
              "      <td>0</td>\n",
              "      <td>1</td>\n",
              "      <td>0</td>\n",
              "    </tr>\n",
              "    <tr>\n",
              "      <th>12</th>\n",
              "      <td>0005c987bdfc9d4b</td>\n",
              "      <td>Hey... what is it..\\n@ | talk .\\nWhat is it......</td>\n",
              "      <td>1</td>\n",
              "      <td>0</td>\n",
              "      <td>0</td>\n",
              "      <td>0</td>\n",
              "      <td>0</td>\n",
              "      <td>0</td>\n",
              "    </tr>\n",
              "    <tr>\n",
              "      <th>16</th>\n",
              "      <td>0007e25b2121310b</td>\n",
              "      <td>Bye! \\n\\nDon't look, come or think of comming ...</td>\n",
              "      <td>1</td>\n",
              "      <td>0</td>\n",
              "      <td>0</td>\n",
              "      <td>0</td>\n",
              "      <td>0</td>\n",
              "      <td>0</td>\n",
              "    </tr>\n",
              "    <tr>\n",
              "      <th>42</th>\n",
              "      <td>001810bf8c45bf5f</td>\n",
              "      <td>You are gay or antisemmitian? \\n\\nArchangel WH...</td>\n",
              "      <td>1</td>\n",
              "      <td>0</td>\n",
              "      <td>1</td>\n",
              "      <td>0</td>\n",
              "      <td>1</td>\n",
              "      <td>1</td>\n",
              "    </tr>\n",
              "    <tr>\n",
              "      <th>43</th>\n",
              "      <td>00190820581d90ce</td>\n",
              "      <td>FUCK YOUR FILTHY MOTHER IN THE ASS, DRY!</td>\n",
              "      <td>1</td>\n",
              "      <td>0</td>\n",
              "      <td>1</td>\n",
              "      <td>0</td>\n",
              "      <td>1</td>\n",
              "      <td>0</td>\n",
              "    </tr>\n",
              "  </tbody>\n",
              "</table>\n",
              "</div>"
            ],
            "text/plain": [
              "                  id  ... identity_hate\n",
              "6   0002bcb3da6cb337  ...             0\n",
              "12  0005c987bdfc9d4b  ...             0\n",
              "16  0007e25b2121310b  ...             0\n",
              "42  001810bf8c45bf5f  ...             1\n",
              "43  00190820581d90ce  ...             0\n",
              "\n",
              "[5 rows x 8 columns]"
            ]
          },
          "metadata": {
            "tags": []
          },
          "execution_count": 10
        }
      ]
    },
    {
      "cell_type": "code",
      "metadata": {
        "id": "k9GWWTIzX1Uk",
        "colab_type": "code",
        "outputId": "119a79c5-20d2-450a-89f8-745494034b58",
        "colab": {
          "base_uri": "https://localhost:8080/",
          "height": 69
        }
      },
      "source": [
        "df_train[\"toxic\"].value_counts()"
      ],
      "execution_count": 11,
      "outputs": [
        {
          "output_type": "execute_result",
          "data": {
            "text/plain": [
              "0    144277\n",
              "1     15294\n",
              "Name: toxic, dtype: int64"
            ]
          },
          "metadata": {
            "tags": []
          },
          "execution_count": 11
        }
      ]
    },
    {
      "cell_type": "code",
      "metadata": {
        "id": "IcxHBEp9-oD6",
        "colab_type": "code",
        "outputId": "5471a387-03d7-4d66-fabf-ed75929de676",
        "colab": {
          "base_uri": "https://localhost:8080/",
          "height": 121
        }
      },
      "source": [
        "print(\"toxic: \", df_train[df_train[\"toxic\"] == 1].shape,  df_train[df_train[\"toxic\"] == 1 ].shape[0]/df_train.shape[0])\n",
        "\n",
        "print(\"severe_toxic: \", df_train[df_train[\"severe_toxic\"] == 1 ].shape,  df_train[df_train[\"severe_toxic\"] == 1 ].shape[0]/df_train.shape[0])\n",
        "\n",
        "print(\"obscene: \", df_train[df_train[\"obscene\"] == 1 ].shape,  df_train[df_train[\"obscene\"] == 1 ].shape[0]/df_train.shape[0])\n",
        "\n",
        "print(\"threat: \", df_train[df_train[\"threat\"] == 1 ].shape,  df_train[df_train[\"threat\"] == 1 ].shape[0]/df_train.shape[0])\n",
        "\n",
        "print(\"insult: \", df_train[df_train[\"insult\"] == 1 ].shape,  df_train[df_train[\"insult\"] == 1 ].shape[0]/df_train.shape[0])\n",
        "\n",
        "print(\"identity_hate: \", df_train[df_train[\"identity_hate\"] == 1 ].shape,  df_train[df_train[\"identity_hate\"] == 1 ].shape[0]/df_train.shape[0])"
      ],
      "execution_count": 12,
      "outputs": [
        {
          "output_type": "stream",
          "text": [
            "toxic:  (15294, 8) 0.09584448302009764\n",
            "severe_toxic:  (1595, 8) 0.009995550569965721\n",
            "obscene:  (8449, 8) 0.052948217407925\n",
            "threat:  (478, 8) 0.002995531769557125\n",
            "insult:  (7877, 8) 0.04936360616904074\n",
            "identity_hate:  (1405, 8) 0.00880485802558109\n"
          ],
          "name": "stdout"
        }
      ]
    },
    {
      "cell_type": "code",
      "metadata": {
        "id": "1R_ypm5K-oJn",
        "colab_type": "code",
        "outputId": "dd58515d-69dd-4fd2-f6fb-904199e5c791",
        "colab": {
          "base_uri": "https://localhost:8080/",
          "height": 34
        }
      },
      "source": [
        "df_train.shape"
      ],
      "execution_count": 13,
      "outputs": [
        {
          "output_type": "execute_result",
          "data": {
            "text/plain": [
              "(159571, 8)"
            ]
          },
          "metadata": {
            "tags": []
          },
          "execution_count": 13
        }
      ]
    },
    {
      "cell_type": "markdown",
      "metadata": {
        "id": "RiVL9QHhEL28",
        "colab_type": "text"
      },
      "source": [
        "## ** Note: Find the reason of classification **"
      ]
    },
    {
      "cell_type": "markdown",
      "metadata": {
        "id": "H2cEQIl3E0gT",
        "colab_type": "text"
      },
      "source": [
        "### **EDA** "
      ]
    },
    {
      "cell_type": "code",
      "metadata": {
        "id": "zLiaNKeQ-oT5",
        "colab_type": "code",
        "outputId": "62daae5f-4681-4b52-c3bf-216339bf0e31",
        "colab": {
          "base_uri": "https://localhost:8080/",
          "height": 191
        }
      },
      "source": [
        "print(\"Check for missing values in Train dataset\")\n",
        "print(df_train.isnull().sum())\n",
        "\n",
        "# There is no missing vales in the Train Data"
      ],
      "execution_count": 14,
      "outputs": [
        {
          "output_type": "stream",
          "text": [
            "Check for missing values in Train dataset\n",
            "id               0\n",
            "comment_text     0\n",
            "toxic            0\n",
            "severe_toxic     0\n",
            "obscene          0\n",
            "threat           0\n",
            "insult           0\n",
            "identity_hate    0\n",
            "dtype: int64\n"
          ],
          "name": "stdout"
        }
      ]
    },
    {
      "cell_type": "code",
      "metadata": {
        "id": "J6pisDJk-oWU",
        "colab_type": "code",
        "outputId": "2e01aea3-06c8-423f-93a5-0e15a55962f8",
        "colab": {
          "base_uri": "https://localhost:8080/",
          "height": 86
        }
      },
      "source": [
        "print(\"Check for missing values in Test dataset\")\n",
        "print(df_test.isnull().sum())\n",
        "\n",
        "# There is no missing vales in the Test Data"
      ],
      "execution_count": 15,
      "outputs": [
        {
          "output_type": "stream",
          "text": [
            "Check for missing values in Test dataset\n",
            "id              0\n",
            "comment_text    0\n",
            "dtype: int64\n"
          ],
          "name": "stdout"
        }
      ]
    },
    {
      "cell_type": "code",
      "metadata": {
        "id": "TSQHSiV7-oeV",
        "colab_type": "code",
        "outputId": "5d14814d-9ae2-41a8-c3a7-7b964f68b6e4",
        "colab": {
          "base_uri": "https://localhost:8080/",
          "height": 284
        }
      },
      "source": [
        "df = pd.DataFrame({'lab':['toxic', 'severe_toxic', 'obscene', \"threat\", \"insult\", \"identity_hate\", \"clean\"], \n",
        "                   'val':[15294, 1595, 8449, 478, 7877, 1405, 143346]})\n",
        "ax = df.plot.bar(x='lab', y='val', rot=0)"
      ],
      "execution_count": 16,
      "outputs": [
        {
          "output_type": "display_data",
          "data": {
            "image/png": "[encoded data removed]",
            "text/plain": [
              "<Figure size 432x288 with 1 Axes>"
            ]
          },
          "metadata": {
            "tags": []
          }
        }
      ]
    },
    {
      "cell_type": "code",
      "metadata": {
        "id": "02YpJPdM-obq",
        "colab_type": "code",
        "outputId": "4fb00e5f-388e-4d3f-cce5-467a758f5d13",
        "colab": {
          "base_uri": "https://localhost:8080/",
          "height": 34
        }
      },
      "source": [
        "df_train[(df_train[\"toxic\"] ==0) & (df_train[\"severe_toxic\"] ==0) & (df_train[\"obscene\"] ==0) & (df_train[\"threat\"] ==0) & \\\n",
        "         (df_train[\"insult\"] ==0) & (df_train[\"identity_hate\"] ==0)].shape"
      ],
      "execution_count": 17,
      "outputs": [
        {
          "output_type": "execute_result",
          "data": {
            "text/plain": [
              "(143346, 8)"
            ]
          },
          "metadata": {
            "tags": []
          },
          "execution_count": 17
        }
      ]
    },
    {
      "cell_type": "code",
      "metadata": {
        "id": "OBYvRZeh-oMa",
        "colab_type": "code",
        "colab": {}
      },
      "source": [
        "df_train[\"sum\"] = df_train.sum(axis=1)"
      ],
      "execution_count": 0,
      "outputs": []
    },
    {
      "cell_type": "code",
      "metadata": {
        "id": "B0N6rFi9-YGg",
        "colab_type": "code",
        "outputId": "05c24d7c-0309-435c-be45-2afce0165c9e",
        "colab": {
          "base_uri": "https://localhost:8080/",
          "height": 206
        }
      },
      "source": [
        "df_train.tail()"
      ],
      "execution_count": 19,
      "outputs": [
        {
          "output_type": "execute_result",
          "data": {
            "text/html": [
              "<div>\n",
              "<style scoped>\n",
              "    .dataframe tbody tr th:only-of-type {\n",
              "        vertical-align: middle;\n",
              "    }\n",
              "\n",
              "    .dataframe tbody tr th {\n",
              "        vertical-align: top;\n",
              "    }\n",
              "\n",
              "    .dataframe thead th {\n",
              "        text-align: right;\n",
              "    }\n",
              "</style>\n",
              "<table border=\"1\" class=\"dataframe\">\n",
              "  <thead>\n",
              "    <tr style=\"text-align: right;\">\n",
              "      <th></th>\n",
              "      <th>id</th>\n",
              "      <th>comment_text</th>\n",
              "      <th>toxic</th>\n",
              "      <th>severe_toxic</th>\n",
              "      <th>obscene</th>\n",
              "      <th>threat</th>\n",
              "      <th>insult</th>\n",
              "      <th>identity_hate</th>\n",
              "      <th>sum</th>\n",
              "    </tr>\n",
              "  </thead>\n",
              "  <tbody>\n",
              "    <tr>\n",
              "      <th>159566</th>\n",
              "      <td>ffe987279560d7ff</td>\n",
              "      <td>\":::::And for the second time of asking, when ...</td>\n",
              "      <td>0</td>\n",
              "      <td>0</td>\n",
              "      <td>0</td>\n",
              "      <td>0</td>\n",
              "      <td>0</td>\n",
              "      <td>0</td>\n",
              "      <td>0</td>\n",
              "    </tr>\n",
              "    <tr>\n",
              "      <th>159567</th>\n",
              "      <td>ffea4adeee384e90</td>\n",
              "      <td>You should be ashamed of yourself \\n\\nThat is ...</td>\n",
              "      <td>0</td>\n",
              "      <td>0</td>\n",
              "      <td>0</td>\n",
              "      <td>0</td>\n",
              "      <td>0</td>\n",
              "      <td>0</td>\n",
              "      <td>0</td>\n",
              "    </tr>\n",
              "    <tr>\n",
              "      <th>159568</th>\n",
              "      <td>ffee36eab5c267c9</td>\n",
              "      <td>Spitzer \\n\\nUmm, theres no actual article for ...</td>\n",
              "      <td>0</td>\n",
              "      <td>0</td>\n",
              "      <td>0</td>\n",
              "      <td>0</td>\n",
              "      <td>0</td>\n",
              "      <td>0</td>\n",
              "      <td>0</td>\n",
              "    </tr>\n",
              "    <tr>\n",
              "      <th>159569</th>\n",
              "      <td>fff125370e4aaaf3</td>\n",
              "      <td>And it looks like it was actually you who put ...</td>\n",
              "      <td>0</td>\n",
              "      <td>0</td>\n",
              "      <td>0</td>\n",
              "      <td>0</td>\n",
              "      <td>0</td>\n",
              "      <td>0</td>\n",
              "      <td>0</td>\n",
              "    </tr>\n",
              "    <tr>\n",
              "      <th>159570</th>\n",
              "      <td>fff46fc426af1f9a</td>\n",
              "      <td>\"\\nAnd ... I really don't think you understand...</td>\n",
              "      <td>0</td>\n",
              "      <td>0</td>\n",
              "      <td>0</td>\n",
              "      <td>0</td>\n",
              "      <td>0</td>\n",
              "      <td>0</td>\n",
              "      <td>0</td>\n",
              "    </tr>\n",
              "  </tbody>\n",
              "</table>\n",
              "</div>"
            ],
            "text/plain": [
              "                      id  ... sum\n",
              "159566  ffe987279560d7ff  ...   0\n",
              "159567  ffea4adeee384e90  ...   0\n",
              "159568  ffee36eab5c267c9  ...   0\n",
              "159569  fff125370e4aaaf3  ...   0\n",
              "159570  fff46fc426af1f9a  ...   0\n",
              "\n",
              "[5 rows x 9 columns]"
            ]
          },
          "metadata": {
            "tags": []
          },
          "execution_count": 19
        }
      ]
    },
    {
      "cell_type": "code",
      "metadata": {
        "id": "6gDK7JyBTw9b",
        "colab_type": "code",
        "outputId": "c40bdcd6-0047-4c12-e086-0c386b91a8ea",
        "colab": {
          "base_uri": "https://localhost:8080/",
          "height": 34
        }
      },
      "source": [
        "import collections\n",
        "counter=collections.Counter(list(df_train[\"sum\"]))\n",
        "counter"
      ],
      "execution_count": 20,
      "outputs": [
        {
          "output_type": "execute_result",
          "data": {
            "text/plain": [
              "Counter({0: 143346, 1: 6360, 2: 3480, 3: 4209, 4: 1760, 5: 385, 6: 31})"
            ]
          },
          "metadata": {
            "tags": []
          },
          "execution_count": 20
        }
      ]
    },
    {
      "cell_type": "code",
      "metadata": {
        "id": "oGiJ-icFXAcM",
        "colab_type": "code",
        "outputId": "cee81ad8-0e12-404a-ac32-654dc7bc62e1",
        "colab": {
          "base_uri": "https://localhost:8080/",
          "height": 283
        }
      },
      "source": [
        "df = pd.DataFrame({'lab':['0', '1', '2', \"3\", \"4\", \"5\", \"6\"], \n",
        "                   'val':[143346, 6360, 3480, 4209, 1760, 385, 31]})\n",
        "ax = df.plot.bar(x='lab', y='val', rot=0,)"
      ],
      "execution_count": 21,
      "outputs": [
        {
          "output_type": "display_data",
          "data": {
            "image/png": "[encoded data removed]",
            "text/plain": [
              "<Figure size 432x288 with 1 Axes>"
            ]
          },
          "metadata": {
            "tags": []
          }
        }
      ]
    },
    {
      "cell_type": "code",
      "metadata": {
        "id": "M6LAvTcOZ6UG",
        "colab_type": "code",
        "colab": {}
      },
      "source": [
        "del df_train[\"sum\"]"
      ],
      "execution_count": 0,
      "outputs": []
    },
    {
      "cell_type": "code",
      "metadata": {
        "id": "D0pJeUFcZ-II",
        "colab_type": "code",
        "outputId": "5ea70bde-50c1-4eac-e027-4b0051a4ffd4",
        "colab": {
          "base_uri": "https://localhost:8080/",
          "height": 169
        }
      },
      "source": [
        "df_train.corr(method ='pearson').style.background_gradient()"
      ],
      "execution_count": 23,
      "outputs": [
        {
          "output_type": "execute_result",
          "data": {
            "text/html": [
              "<style  type=\"text/css\" >\n",
              "    #T_de3bfa94_d261_11e9_9089_0242ac1c0002row0_col0 {\n",
              "            background-color:  #023858;\n",
              "            color:  #f1f1f1;\n",
              "        }    #T_de3bfa94_d261_11e9_9089_0242ac1c0002row0_col1 {\n",
              "            background-color:  #d9d8ea;\n",
              "            color:  #000000;\n",
              "        }    #T_de3bfa94_d261_11e9_9089_0242ac1c0002row0_col2 {\n",
              "            background-color:  #3790c0;\n",
              "            color:  #000000;\n",
              "        }    #T_de3bfa94_d261_11e9_9089_0242ac1c0002row0_col3 {\n",
              "            background-color:  #f8f1f8;\n",
              "            color:  #000000;\n",
              "        }    #T_de3bfa94_d261_11e9_9089_0242ac1c0002row0_col4 {\n",
              "            background-color:  #4a98c5;\n",
              "            color:  #000000;\n",
              "        }    #T_de3bfa94_d261_11e9_9089_0242ac1c0002row0_col5 {\n",
              "            background-color:  #e2dfee;\n",
              "            color:  #000000;\n",
              "        }    #T_de3bfa94_d261_11e9_9089_0242ac1c0002row1_col0 {\n",
              "            background-color:  #e0dded;\n",
              "            color:  #000000;\n",
              "        }    #T_de3bfa94_d261_11e9_9089_0242ac1c0002row1_col1 {\n",
              "            background-color:  #023858;\n",
              "            color:  #f1f1f1;\n",
              "        }    #T_de3bfa94_d261_11e9_9089_0242ac1c0002row1_col2 {\n",
              "            background-color:  #bdc8e1;\n",
              "            color:  #000000;\n",
              "        }    #T_de3bfa94_d261_11e9_9089_0242ac1c0002row1_col3 {\n",
              "            background-color:  #fef6fa;\n",
              "            color:  #000000;\n",
              "        }    #T_de3bfa94_d261_11e9_9089_0242ac1c0002row1_col4 {\n",
              "            background-color:  #cacee5;\n",
              "            color:  #000000;\n",
              "        }    #T_de3bfa94_d261_11e9_9089_0242ac1c0002row1_col5 {\n",
              "            background-color:  #f0eaf4;\n",
              "            color:  #000000;\n",
              "        }    #T_de3bfa94_d261_11e9_9089_0242ac1c0002row2_col0 {\n",
              "            background-color:  #3b92c1;\n",
              "            color:  #000000;\n",
              "        }    #T_de3bfa94_d261_11e9_9089_0242ac1c0002row2_col1 {\n",
              "            background-color:  #b9c6e0;\n",
              "            color:  #000000;\n",
              "        }    #T_de3bfa94_d261_11e9_9089_0242ac1c0002row2_col2 {\n",
              "            background-color:  #023858;\n",
              "            color:  #f1f1f1;\n",
              "        }    #T_de3bfa94_d261_11e9_9089_0242ac1c0002row2_col3 {\n",
              "            background-color:  #fbf3f9;\n",
              "            color:  #000000;\n",
              "        }    #T_de3bfa94_d261_11e9_9089_0242ac1c0002row2_col4 {\n",
              "            background-color:  #197db7;\n",
              "            color:  #000000;\n",
              "        }    #T_de3bfa94_d261_11e9_9089_0242ac1c0002row2_col5 {\n",
              "            background-color:  #dddbec;\n",
              "            color:  #000000;\n",
              "        }    #T_de3bfa94_d261_11e9_9089_0242ac1c0002row3_col0 {\n",
              "            background-color:  #fff7fb;\n",
              "            color:  #000000;\n",
              "        }    #T_de3bfa94_d261_11e9_9089_0242ac1c0002row3_col1 {\n",
              "            background-color:  #fff7fb;\n",
              "            color:  #000000;\n",
              "        }    #T_de3bfa94_d261_11e9_9089_0242ac1c0002row3_col2 {\n",
              "            background-color:  #fff7fb;\n",
              "            color:  #000000;\n",
              "        }    #T_de3bfa94_d261_11e9_9089_0242ac1c0002row3_col3 {\n",
              "            background-color:  #023858;\n",
              "            color:  #f1f1f1;\n",
              "        }    #T_de3bfa94_d261_11e9_9089_0242ac1c0002row3_col4 {\n",
              "            background-color:  #fff7fb;\n",
              "            color:  #000000;\n",
              "        }    #T_de3bfa94_d261_11e9_9089_0242ac1c0002row3_col5 {\n",
              "            background-color:  #fff7fb;\n",
              "            color:  #000000;\n",
              "        }    #T_de3bfa94_d261_11e9_9089_0242ac1c0002row4_col0 {\n",
              "            background-color:  #4c99c5;\n",
              "            color:  #000000;\n",
              "        }    #T_de3bfa94_d261_11e9_9089_0242ac1c0002row4_col1 {\n",
              "            background-color:  #c4cbe3;\n",
              "            color:  #000000;\n",
              "        }    #T_de3bfa94_d261_11e9_9089_0242ac1c0002row4_col2 {\n",
              "            background-color:  #197db7;\n",
              "            color:  #000000;\n",
              "        }    #T_de3bfa94_d261_11e9_9089_0242ac1c0002row4_col3 {\n",
              "            background-color:  #f9f2f8;\n",
              "            color:  #000000;\n",
              "        }    #T_de3bfa94_d261_11e9_9089_0242ac1c0002row4_col4 {\n",
              "            background-color:  #023858;\n",
              "            color:  #f1f1f1;\n",
              "        }    #T_de3bfa94_d261_11e9_9089_0242ac1c0002row4_col5 {\n",
              "            background-color:  #d0d1e6;\n",
              "            color:  #000000;\n",
              "        }    #T_de3bfa94_d261_11e9_9089_0242ac1c0002row5_col0 {\n",
              "            background-color:  #ebe6f2;\n",
              "            color:  #000000;\n",
              "        }    #T_de3bfa94_d261_11e9_9089_0242ac1c0002row5_col1 {\n",
              "            background-color:  #f2ecf5;\n",
              "            color:  #000000;\n",
              "        }    #T_de3bfa94_d261_11e9_9089_0242ac1c0002row5_col2 {\n",
              "            background-color:  #e2dfee;\n",
              "            color:  #000000;\n",
              "        }    #T_de3bfa94_d261_11e9_9089_0242ac1c0002row5_col3 {\n",
              "            background-color:  #fff7fb;\n",
              "            color:  #000000;\n",
              "        }    #T_de3bfa94_d261_11e9_9089_0242ac1c0002row5_col4 {\n",
              "            background-color:  #d7d6e9;\n",
              "            color:  #000000;\n",
              "        }    #T_de3bfa94_d261_11e9_9089_0242ac1c0002row5_col5 {\n",
              "            background-color:  #023858;\n",
              "            color:  #f1f1f1;\n",
              "        }</style><table id=\"T_de3bfa94_d261_11e9_9089_0242ac1c0002\" ><thead>    <tr>        <th class=\"blank level0\" ></th>        <th class=\"col_heading level0 col0\" >toxic</th>        <th class=\"col_heading level0 col1\" >severe_toxic</th>        <th class=\"col_heading level0 col2\" >obscene</th>        <th class=\"col_heading level0 col3\" >threat</th>        <th class=\"col_heading level0 col4\" >insult</th>        <th class=\"col_heading level0 col5\" >identity_hate</th>    </tr></thead><tbody>\n",
              "                <tr>\n",
              "                        <th id=\"T_de3bfa94_d261_11e9_9089_0242ac1c0002level0_row0\" class=\"row_heading level0 row0\" >toxic</th>\n",
              "                        <td id=\"T_de3bfa94_d261_11e9_9089_0242ac1c0002row0_col0\" class=\"data row0 col0\" >1</td>\n",
              "                        <td id=\"T_de3bfa94_d261_11e9_9089_0242ac1c0002row0_col1\" class=\"data row0 col1\" >0.308619</td>\n",
              "                        <td id=\"T_de3bfa94_d261_11e9_9089_0242ac1c0002row0_col2\" class=\"data row0 col2\" >0.676515</td>\n",
              "                        <td id=\"T_de3bfa94_d261_11e9_9089_0242ac1c0002row0_col3\" class=\"data row0 col3\" >0.157058</td>\n",
              "                        <td id=\"T_de3bfa94_d261_11e9_9089_0242ac1c0002row0_col4\" class=\"data row0 col4\" >0.647518</td>\n",
              "                        <td id=\"T_de3bfa94_d261_11e9_9089_0242ac1c0002row0_col5\" class=\"data row0 col5\" >0.266009</td>\n",
              "            </tr>\n",
              "            <tr>\n",
              "                        <th id=\"T_de3bfa94_d261_11e9_9089_0242ac1c0002level0_row1\" class=\"row_heading level0 row1\" >severe_toxic</th>\n",
              "                        <td id=\"T_de3bfa94_d261_11e9_9089_0242ac1c0002row1_col0\" class=\"data row1 col0\" >0.308619</td>\n",
              "                        <td id=\"T_de3bfa94_d261_11e9_9089_0242ac1c0002row1_col1\" class=\"data row1 col1\" >1</td>\n",
              "                        <td id=\"T_de3bfa94_d261_11e9_9089_0242ac1c0002row1_col2\" class=\"data row1 col2\" >0.403014</td>\n",
              "                        <td id=\"T_de3bfa94_d261_11e9_9089_0242ac1c0002row1_col3\" class=\"data row1 col3\" >0.123601</td>\n",
              "                        <td id=\"T_de3bfa94_d261_11e9_9089_0242ac1c0002row1_col4\" class=\"data row1 col4\" >0.375807</td>\n",
              "                        <td id=\"T_de3bfa94_d261_11e9_9089_0242ac1c0002row1_col5\" class=\"data row1 col5\" >0.2016</td>\n",
              "            </tr>\n",
              "            <tr>\n",
              "                        <th id=\"T_de3bfa94_d261_11e9_9089_0242ac1c0002level0_row2\" class=\"row_heading level0 row2\" >obscene</th>\n",
              "                        <td id=\"T_de3bfa94_d261_11e9_9089_0242ac1c0002row2_col0\" class=\"data row2 col0\" >0.676515</td>\n",
              "                        <td id=\"T_de3bfa94_d261_11e9_9089_0242ac1c0002row2_col1\" class=\"data row2 col1\" >0.403014</td>\n",
              "                        <td id=\"T_de3bfa94_d261_11e9_9089_0242ac1c0002row2_col2\" class=\"data row2 col2\" >1</td>\n",
              "                        <td id=\"T_de3bfa94_d261_11e9_9089_0242ac1c0002row2_col3\" class=\"data row2 col3\" >0.141179</td>\n",
              "                        <td id=\"T_de3bfa94_d261_11e9_9089_0242ac1c0002row2_col4\" class=\"data row2 col4\" >0.741272</td>\n",
              "                        <td id=\"T_de3bfa94_d261_11e9_9089_0242ac1c0002row2_col5\" class=\"data row2 col5\" >0.286867</td>\n",
              "            </tr>\n",
              "            <tr>\n",
              "                        <th id=\"T_de3bfa94_d261_11e9_9089_0242ac1c0002level0_row3\" class=\"row_heading level0 row3\" >threat</th>\n",
              "                        <td id=\"T_de3bfa94_d261_11e9_9089_0242ac1c0002row3_col0\" class=\"data row3 col0\" >0.157058</td>\n",
              "                        <td id=\"T_de3bfa94_d261_11e9_9089_0242ac1c0002row3_col1\" class=\"data row3 col1\" >0.123601</td>\n",
              "                        <td id=\"T_de3bfa94_d261_11e9_9089_0242ac1c0002row3_col2\" class=\"data row3 col2\" >0.141179</td>\n",
              "                        <td id=\"T_de3bfa94_d261_11e9_9089_0242ac1c0002row3_col3\" class=\"data row3 col3\" >1</td>\n",
              "                        <td id=\"T_de3bfa94_d261_11e9_9089_0242ac1c0002row3_col4\" class=\"data row3 col4\" >0.150022</td>\n",
              "                        <td id=\"T_de3bfa94_d261_11e9_9089_0242ac1c0002row3_col5\" class=\"data row3 col5\" >0.115128</td>\n",
              "            </tr>\n",
              "            <tr>\n",
              "                        <th id=\"T_de3bfa94_d261_11e9_9089_0242ac1c0002level0_row4\" class=\"row_heading level0 row4\" >insult</th>\n",
              "                        <td id=\"T_de3bfa94_d261_11e9_9089_0242ac1c0002row4_col0\" class=\"data row4 col0\" >0.647518</td>\n",
              "                        <td id=\"T_de3bfa94_d261_11e9_9089_0242ac1c0002row4_col1\" class=\"data row4 col1\" >0.375807</td>\n",
              "                        <td id=\"T_de3bfa94_d261_11e9_9089_0242ac1c0002row4_col2\" class=\"data row4 col2\" >0.741272</td>\n",
              "                        <td id=\"T_de3bfa94_d261_11e9_9089_0242ac1c0002row4_col3\" class=\"data row4 col3\" >0.150022</td>\n",
              "                        <td id=\"T_de3bfa94_d261_11e9_9089_0242ac1c0002row4_col4\" class=\"data row4 col4\" >1</td>\n",
              "                        <td id=\"T_de3bfa94_d261_11e9_9089_0242ac1c0002row4_col5\" class=\"data row4 col5\" >0.337736</td>\n",
              "            </tr>\n",
              "            <tr>\n",
              "                        <th id=\"T_de3bfa94_d261_11e9_9089_0242ac1c0002level0_row5\" class=\"row_heading level0 row5\" >identity_hate</th>\n",
              "                        <td id=\"T_de3bfa94_d261_11e9_9089_0242ac1c0002row5_col0\" class=\"data row5 col0\" >0.266009</td>\n",
              "                        <td id=\"T_de3bfa94_d261_11e9_9089_0242ac1c0002row5_col1\" class=\"data row5 col1\" >0.2016</td>\n",
              "                        <td id=\"T_de3bfa94_d261_11e9_9089_0242ac1c0002row5_col2\" class=\"data row5 col2\" >0.286867</td>\n",
              "                        <td id=\"T_de3bfa94_d261_11e9_9089_0242ac1c0002row5_col3\" class=\"data row5 col3\" >0.115128</td>\n",
              "                        <td id=\"T_de3bfa94_d261_11e9_9089_0242ac1c0002row5_col4\" class=\"data row5 col4\" >0.337736</td>\n",
              "                        <td id=\"T_de3bfa94_d261_11e9_9089_0242ac1c0002row5_col5\" class=\"data row5 col5\" >1</td>\n",
              "            </tr>\n",
              "    </tbody></table>"
            ],
            "text/plain": [
              "<pandas.io.formats.style.Styler at 0x7ff524abb9e8>"
            ]
          },
          "metadata": {
            "tags": []
          },
          "execution_count": 23
        }
      ]
    },
    {
      "cell_type": "code",
      "metadata": {
        "id": "ouEhqNKma3H1",
        "colab_type": "code",
        "outputId": "7d50cef1-d0d4-4eef-b977-a6fe42cc3274",
        "colab": {
          "base_uri": "https://localhost:8080/",
          "height": 69
        }
      },
      "source": [
        "df_train.columns"
      ],
      "execution_count": 24,
      "outputs": [
        {
          "output_type": "execute_result",
          "data": {
            "text/plain": [
              "Index(['id', 'comment_text', 'toxic', 'severe_toxic', 'obscene', 'threat',\n",
              "       'insult', 'identity_hate'],\n",
              "      dtype='object')"
            ]
          },
          "metadata": {
            "tags": []
          },
          "execution_count": 24
        }
      ]
    },
    {
      "cell_type": "code",
      "metadata": {
        "id": "orOV8jppib9k",
        "colab_type": "code",
        "outputId": "7271c1d0-6ae3-4561-8f4c-863f4f98a39d",
        "colab": {
          "base_uri": "https://localhost:8080/",
          "height": 143
        }
      },
      "source": [
        "df_train[df_train[\"severe_toxic\"] == 1].head(3)"
      ],
      "execution_count": 25,
      "outputs": [
        {
          "output_type": "execute_result",
          "data": {
            "text/html": [
              "<div>\n",
              "<style scoped>\n",
              "    .dataframe tbody tr th:only-of-type {\n",
              "        vertical-align: middle;\n",
              "    }\n",
              "\n",
              "    .dataframe tbody tr th {\n",
              "        vertical-align: top;\n",
              "    }\n",
              "\n",
              "    .dataframe thead th {\n",
              "        text-align: right;\n",
              "    }\n",
              "</style>\n",
              "<table border=\"1\" class=\"dataframe\">\n",
              "  <thead>\n",
              "    <tr style=\"text-align: right;\">\n",
              "      <th></th>\n",
              "      <th>id</th>\n",
              "      <th>comment_text</th>\n",
              "      <th>toxic</th>\n",
              "      <th>severe_toxic</th>\n",
              "      <th>obscene</th>\n",
              "      <th>threat</th>\n",
              "      <th>insult</th>\n",
              "      <th>identity_hate</th>\n",
              "    </tr>\n",
              "  </thead>\n",
              "  <tbody>\n",
              "    <tr>\n",
              "      <th>6</th>\n",
              "      <td>0002bcb3da6cb337</td>\n",
              "      <td>COCKSUCKER BEFORE YOU PISS AROUND ON MY WORK</td>\n",
              "      <td>1</td>\n",
              "      <td>1</td>\n",
              "      <td>1</td>\n",
              "      <td>0</td>\n",
              "      <td>1</td>\n",
              "      <td>0</td>\n",
              "    </tr>\n",
              "    <tr>\n",
              "      <th>55</th>\n",
              "      <td>0020e7119b96eeeb</td>\n",
              "      <td>Stupid peace of shit stop deleting my stuff as...</td>\n",
              "      <td>1</td>\n",
              "      <td>1</td>\n",
              "      <td>1</td>\n",
              "      <td>0</td>\n",
              "      <td>1</td>\n",
              "      <td>0</td>\n",
              "    </tr>\n",
              "    <tr>\n",
              "      <th>181</th>\n",
              "      <td>006e87872c8b370c</td>\n",
              "      <td>you are a stupid fuck \\n\\nand your mother's cu...</td>\n",
              "      <td>1</td>\n",
              "      <td>1</td>\n",
              "      <td>1</td>\n",
              "      <td>0</td>\n",
              "      <td>1</td>\n",
              "      <td>0</td>\n",
              "    </tr>\n",
              "  </tbody>\n",
              "</table>\n",
              "</div>"
            ],
            "text/plain": [
              "                   id  ... identity_hate\n",
              "6    0002bcb3da6cb337  ...             0\n",
              "55   0020e7119b96eeeb  ...             0\n",
              "181  006e87872c8b370c  ...             0\n",
              "\n",
              "[3 rows x 8 columns]"
            ]
          },
          "metadata": {
            "tags": []
          },
          "execution_count": 25
        }
      ]
    },
    {
      "cell_type": "code",
      "metadata": {
        "id": "Ins6dduH50Xm",
        "colab_type": "code",
        "outputId": "74e0a0cb-c7c9-4d62-d9ad-bbb9e8f6724e",
        "colab": {
          "base_uri": "https://localhost:8080/",
          "height": 1000
        }
      },
      "source": [
        "for elem in df_train[df_train[\"identity_hate\"] == 1].comment_text.head(30):\n",
        "    print(elem, \"\\n ==============\\n\\n\\n\")"
      ],
      "execution_count": 26,
      "outputs": [
        {
          "output_type": "stream",
          "text": [
            "You are gay or antisemmitian? \n",
            "\n",
            "Archangel WHite Tiger\n",
            "\n",
            "Meow! Greetingshhh!\n",
            "\n",
            "Uh, there are two ways, why you do erased my comment about WW2, that holocaust was brutally slaying of Jews and not gays/Gypsys/Slavs/anyone...\n",
            "\n",
            "1 - If you are anti-semitian, than shave your head bald and go to the skinhead meetings!\n",
            "\n",
            "2 - If you doubt words of the Bible, that homosexuality is a deadly sin, make a pentagram tatoo on your forehead go to the satanistic masses with your gay pals!\n",
            "\n",
            "3 - First and last warning, you fucking gay - I won't appreciate if any more nazi shwain would write in my page! I don't wish to talk to you anymore!\n",
            "\n",
            "Beware of the Dark Side! \n",
            " ==============\n",
            "\n",
            "\n",
            "\n",
            "A pair of jew-hating weiner nazi schmucks. \n",
            " ==============\n",
            "\n",
            "\n",
            "\n",
            "I think that your a Fagget get a oife and burn in Hell I hate you 'm sorry we cant have any more sex i'm running out of conndoms \n",
            " ==============\n",
            "\n",
            "\n",
            "\n",
            "Kill all niggers. \n",
            "\n",
            "I have hard, that others have said this.. should this be included? That racists sometimes say these. \n",
            " ==============\n",
            "\n",
            "\n",
            "\n",
            "u r a tw@ fuck off u gay boy.U r smelly.Fuck ur mum poopie \n",
            " ==============\n",
            "\n",
            "\n",
            "\n",
            "Gay \n",
            "\n",
            "The existence of CDVF is further proof that  is a sad twat. He is also very ugly, and has a willy for a face. \n",
            " ==============\n",
            "\n",
            "\n",
            "\n",
            "Dictionaries\n",
            "\n",
            "How dare you call my contribution spam!!! I am a Kurd and I made a lsit of kurdish dictionaries. you bloody turkish nationalist and atoricity commiting bone breaking Nazi. watch out folk this slimy Turk is trying to censor the internet this is not undemocratic Turkey here, no prison cells in wikipedia you stupid Turk! And you buggers want membership to the EEC \n",
            " ==============\n",
            "\n",
            "\n",
            "\n",
            "you gay motherfucker i know where you live,i am going to sand your face off,then i am to going to beat you to a pulp,you chicken shagger. \n",
            " ==============\n",
            "\n",
            "\n",
            "\n",
            "you studid cock sucker u stop callin me ok its a frank Garrett eatin the worms crawl outa your moms pussy you fucking retardo hit I retardo \n",
            " ==============\n",
            "\n",
            "\n",
            "\n",
            "WOULDN'T BE THE FIRST TIME BITCH. FUCK YOU I'LL FIND OUT WHERE YOU LIVE, SODOMIZE YOUR WIFE AND THEN BURN YOUR HOUSE DOWN. FUCK YOU YOU FUCKING QUEER. \n",
            " ==============\n",
            "\n",
            "\n",
            "\n",
            "Fuck you faggot, I don't care if i get blocked, as long as everyone knows you are a dumb cunt. \n",
            " ==============\n",
            "\n",
            "\n",
            "\n",
            "Hey, you freaking hermaphrodite. \n",
            "\n",
            "Please unprotect your user page; I would like to move it to a more suitable title or three. \n",
            " ==============\n",
            "\n",
            "\n",
            "\n",
            "GHE you're a fag. Learn it, know it! \n",
            " ==============\n",
            "\n",
            "\n",
            "\n",
            "SHUT UP, YOU FAT POOP, OR I WILL KICK YOUR ASS!!! \n",
            " ==============\n",
            "\n",
            "\n",
            "\n",
            "THAT WAS A GOOD EDIT THE POLAR BEAR IS GAY!! \n",
            " ==============\n",
            "\n",
            "\n",
            "\n",
            "Demonte Morton \n",
            "\n",
            "U bastard stop deletin' my shit u white trash cracker muthafucker. Fuck u u racist bitch. I hope u die. \n",
            " ==============\n",
            "\n",
            "\n",
            "\n",
            "Bla bla bla....suck it Irishguy =) \n",
            " ==============\n",
            "\n",
            "\n",
            "\n",
            "\"\n",
            "\n",
            "You have evidence from ME!  I presented you with tone of evidence, but you reject it because it goes against your fictional ideas of what New England is or should be.  Even eastern(southeast anyway) CT is not into this New England thing, which actually shocked me!  I have told you time and again, western CT does not think of ourselves in this NE thing.  Go to a town meeting and see if Boston or NE comes up.  CT and it's place in the NYC metro area is what comes up.  You are doing nothing but telling lies and spreading propaganda.  It has to be because you dismiss my actual facts and you make too many excuses that hold no water.  In my CT, there are no signs that point to New England or Boston.  Our signs point to New York state and city.\n",
            "\n",
            "Also, how you people are not on this guy's ass like you are on mine?  \"\"I bet its cause we white folk from New England hate NYC Niggers, like this spick who posted above me. Go fuck yourself.—The preceding unsigned comment was added by 71.162.110.60 (talk • contribs).\"\"  \n",
            "\n",
            "I can only assume because he is one of you and he at least still believe in New England with Boston as it's capital.  Get your head out of your ass.  Watch you block me for those comments.  If I get blocked, that guy (you? should be blocked. \" \n",
            " ==============\n",
            "\n",
            "\n",
            "\n",
            "YOU ARE A FAGGOT\n",
            "GET A LIFE 97.102.60.171 \n",
            " ==============\n",
            "\n",
            "\n",
            "\n",
            "Once again.... I'm SO glad that Wikipedia is not biased or filled with retarded children. \n",
            " ==============\n",
            "\n",
            "\n",
            "\n",
            "YOUR ARE FUCKING GAY WAD!!!!!!!!!!!!!!!!!!!!!!!!!!!!!!!!!!!!!!!!!!!!!!!!!!!!!!!!!!!!!!!!!!!!!!!!!!!!!!!!!!!!!!!!!!!!!!!!!!!!!!!!!!!!!!!!!!!!!!!!!!!!!!!!!!!!!!!!!!!!!!!!!!!!!!!!!!!!!!!!!!!!!!!!!!!!!!!! \n",
            "\n",
            "I fucked your mum. OH WAIT YOUR GAY YOU DONT HAVE A MOM!!! HAHAHAHAHAHAHAHAHAHAHAHAHAHAHAHAHAHAHAHAHAHAHAHAHAHAHAHAHAHAHAHAHAHAHAHAHAHAHAHAHAHAHAHAHAHAHAHAHAHAHAHAHAHAHAHAHAHAHAHAHAHAHAHAHAHAHAHAHAHAHAHAHAHAHAHAHAHAHAHAHAHAHAHAHAHAHAHAHAHAHAHAHAHAHAHAHAHAHAHAHAHAHAHAHAHAHAHAHAHAHAHAHAHAHAHAHAHAHAHAHAHAHAHAHAHAHAHAHAHAHAHAHAHAHAHAHAHAHAHAHAHAHAHAHAHAHAHAHAHAHAHAHAHAHAHAHAHAHAHAHA\n",
            "LOLOLOLOLOLOLOLOLOLOLOLOLOLOLOLOLOLOLOLOLOLOLOLOLOLOLOLOLOLOLOLOLOLOLOLOLOLOLOLOLOLOLOLOLOLOLOLOLOLOLOLOLOLOLOLOLOLOLOLOLOLOLOLOLOLOLOLOLOLOLOLOLOLOLOLOLOLOLOLOLOLOLOLOLOLOLOLOLOLOLOLOLOLOLOLOLOLOLOLOLOLOLOLOLOLOLOLOLOLOLOLOL\n",
            "CUNTCUNTCUNTCUNTCUNTCUNTCUNTCUNTCUNTCUNTCUNTCUNTCUNTCUNTCUNTCUNTCUNTCUNTCUNTCUNTCUNTCUNTCUNTCUNTCUNTCUNTCUNTCUNTCUNTCUNTCUNTCUNTCUNTCUNTCUNTCUNTCUNTCUNTCUNTCUNTCUNTCUNTCUNTCUNTCUNTCUNTI fucked your mum. OH WAIT YOUR GAY YOU DONT HAVE A MOM!!! HAHAHAHAHAHAHAHAHAHAHAHAHAHAHAHAHAHAHAHAHAHAHAHAHAHAHAHAHAHAHAHAHAHAHAHAHAHAHAHAHAHAHAHAHAHAHAHAHAHAHAHAHAHAHAHAHAHAHAHAHAHAHAHAHAHAHAHAHAHAHAHAHAHAHAHAHAHAHAHAHAHAHAHAHAHAHAHAHAHAHAHAHAHAHAHAHAHAHAHAHAHAHAHAHAHAHAHAHAHAHAHAHAHAHAHAHAHAHAHAHAHAHAHAHAHAHAHAHAHAHAHAHAHAHAHAHAHAHAHAHAHAHAHAHAHAHAHAHAHAHAHAHAHAHAHAHAHAHAHAHA\n",
            "LOLOLOLOLOLOLOLOLOLOLOLOLOLOLOLOLOLOLOLOLOLOLOLOLOLOLOLOLOLOLOLOLOLOLOLOLOLOLOLOLOLOLOLOLOLOLOLOLOLOLOLOLOLOLOLOLOLOLOLOLOLOLOLOLOLOLOLOLOLOLOLOLOLOLOLOLOLOLOLOLOLOLOLOLOLOLOLOLOLOLOLOLOLOLOLOLOLOLOLOLOLOLOLOLOLOLOLOLOLOLOLOL\n",
            "CUNTCUNTCUNTCUNTCUNTCUNTCUNTCUNTCUNTCUNTCUNTCUNTCUNTCUNTCUNTCUNTCUNTCUNTCUNTCUNTCUNTCUNTCUNTCUNTCUNTCUNTCUNTCUNTCUNTCUNTCUNTCUNTCUNTCUNTCUNTCUNTCUNTCUNTCUNTCUNTCUNTCUNTCUNTCUNTCUNTCUNTI fucked your mum. OH WAIT YOUR GAY YOU DONT HAVE A MOM!!! HAHAHAHAHAHAHAHAHAHAHAHAHAHAHAHAHAHAHAHAHAHAHAHAHAHAHAHAHAHAHAHAHAHAHAHAHAHAHAHAHAHAHAHAHAHAHAHAHAHAHAHAHAHAHAHAHAHAHAHAHAHAHAHAHAHAHAHAHAHAHAHAHAHAHAHAHAHAHAHAHAHAHAHAHAHAHAHAHAHAHAHAHAHAHAHAHAHAHAHAHAHAHAHAHAHAHAHAHAHAHAHAHAHAHAHAHAHAHAHAHAHAHAHAHAHAHAHAHAHAHAHAHAHAHAHAHAHAHAHAHAHAHAHAHAHAHAHAHAHAHAHAHAHAHAHAHAHAHAHAHA\n",
            "LOLOLOLOLOLOLOLOLOLOLOLOLOLOLOLOLOLOLOLOLOLOLOLOLOLOLOLOLOLOLOLOLOLOLOLOLOLOLOLOLOLOLOLOLOLOLOLOLOLOLOLOLOLOLOLOLOLOLOLOLOLOLOLOLOLOLOLOLOLOLOLOLOLOLOLOLOLOLOLOLOLOLOLOLOLOLOLOLOLOLOLOLOLOLOLOLOLOLOLOLOLOLOLOLOLOLOLOLOLOLOLOL\n",
            "CUNTCUNTCUNTCUNTCUNTCUNTCUNTCUNTCUNTCUNTCUNTCUNTCUNTCUNTCUNTCUNTCUNTCUNTCUNTCUNTCUNTCUNTCUNTCUNTCUNTCUNTCUNTCUNTCUNTCUNTCUNTCUNTCUNTCUNTCUNTCUNTCUNTCUNTCUNTCUNTCUNTCUNTCUNTCUNTCUNTCUNTI fucked your mum. OH WAIT YOUR GAY YOU DONT HAVE A MOM!!! HAHAHAHAHAHAHAHAHAHAHAHAHAHAHAHAHAHAHAHAHAHAHAHAHAHAHAHAHAHAHAHAHAHAHAHAHAHAHAHAHAHAHAHAHAHAHAHAHAHAHAHAHAHAHAHAHAHAHAHAHAHAHAHAHAHAHAHAHAHAHAHAHAHAHAHAHAHAHAHAHAHAHAHAHAHAHAHAHAHAHAHAHAHAHAHAHAHAHAHAHAHAHAHAHAHAHAHAHAHAHAHAHAHAHAHAHAHAHAHAHAHAHAHAHAHAHAHAHAHAHAHAHAHAHAHAHAHAHAHAHAHAHAHAHAHAHAHAHAHAHAHAHAHAHAHAHAHAHAHAHA\n",
            "LOLOLOLOLOLOLOLOLOLOLOLOLOLOLOLOLOLOLOLOLOLOLOLOLOLOLOLOLOLOLOLOLOLOLOLOLOLOLOLOLOLOLOLOLOLOLOLOLOLOLOLOLOLOLOLOLOLOLOLOLOLOLOLOLOLOLOLOLOLOLOLOLOLOLOLOLOLOLOLOLOLOLOLOLOLOLOLOLOLOLOLOLOLOLOLOLOLOLOLOLOLOLOLOLOLOLOLOLOLOLOLOL\n",
            "CUNTCUNTCUNTCUNTCUNTCUNTCUNTCUNTCUNTCUNTCUNTCUNTCUNTCUNTCUNTCUNTCUNTCUNTCUNTCUNTCUNTCUNTCUNTCUNTCUNTCUNTCUNTCUNTCUNTCUNTCUNTCUNTCUNTCUNTCUNTCUNTCUNTCUNTCUNTCUNTCUNTCUNTCUNTCUNTCUNTCUNTI fucked your mum. OH WAIT YOUR GAY YOU DONT HAVE A MOM!!! HAHAHAHAHAHAHAHAHAHAHAHAHAHAHAHAHAHAHAHAHAHAHAHAHAHAHAHAHAHAHAHAHAHAHAHAHAHAHAHAHAHAHAHAHAHAHAHAHAHAHAHAHAHAHAHAHAHAHAHAHAHAHAHAHAHAHAHAHAHAHAHAHAHAHAHAHAHAHAHAHAHAHAHAHAHAHAHAHAHAHAHAHAHAHAHAHAHAHAHAHAHAHAHAHAHAHAHAHAHAHAHAHAHAHAHAHAHAHAHAHAHAHAHAHAHAHAHAHAHAHAHAHAHAHAHAHAHAHAHAHAHAHAHAHAHAHAHAHAHAHAHAHAHAHAHAHAHAHAHAHA\n",
            "LOLOLOLOLOLOLOLOLOLOLOLOLOLOLOLOLOLOLOLOLOLOLOLOLOLOLOLOLOLOLOLOLOLOLOLOLOLOLOLOLOLOLOLOLOLOLOLOLOLOLOLOLOLOLOLOLOLOLOLOLOLOLOLOLOLOLOLOLOLOLOLOLOLOLOLOLOLOLOLOLOLOLOLOLOLOLOLOLOLOLOLOLOLOLOLOLOLOLOLOLOLOLOLOLOLOLOLOLOLOLOLOL\n",
            "CUNTCUNTCUNTCUNTCUNTCUNTCUNTCUNTCUNTCUNTCUNTCUNTCUNTCUNTCUNTCUNTCUNTCUNTCUNTCUNTCUNTCUNTCUNTCUNTCUNTCUNTCUNTCUNTCUNTCUNTCUNTCUNTCUNTCUNTCUNTCUNTCUNTCUNTCUNTCUNTCUNTCUNTCUNTCUNTCUNTCUNTI fucked your mum. OH WAIT YOUR GAY YOU DONT HAVE A MOM!!! HAHAHAHAHAHAHAHAHAHAHAHAHAHAHAHAHAHAHAHAHAHAHAHAHAHAHAHAHAHAHAHAHAHAHAHAHAHAHAHAHAHAHAHAHAHAHAHAHAHAHAHAHAHAHAHAHAHAHAHAHAHAHAHAHAHAHAHAHAHAHAHAHAHAHAHAHAHAHAHAHAHAHAHAHAHAHAHAHAHAHAHAHAHAHAHAHAHAHAHAHAHAHAHAHAHAHAHAHAHAHAHAHAHAHAHAHAHAHAHAHAHAHAHAHAHAHAHAHAHAHAHAHAHAHAHAHAHAHAHAHAHAHAHAHAHAHAHAHAHAHAHAHAHAHAHAHAHAHAHAHA\n",
            "LOLOLOLOLOLOLOLOLOLOLOLOLOLOLOLOLOLOLOLOLOLOLOLOLOLOLOLOLOLOLOLOLOLOLOLOLOLOLOLOLOLOLOLOLOLOLOLOLOLOLOLOLOLOLOLOLOLOLOLOLOLOLOLOLOLOLOLOLOLOLOLOLOLOLOLOLOLOLOLOLOLOLOLOLOLOLOLOLOLOLOLOLOLOLOLOLOLOLOLOLOLOLOLOLOLOLOLOLOLOLOLOL\n",
            "CUNTCUNTCUNTCUNTCUNTCUNTCUNTCUNTCUNTCUNTCUNTCUNTCUNTCUNTCUNTCUNTCUNTCUNTCUNTCUNTCUNTCUNTCUNTCUNTCUNTCUNTCUNTCUNTCUNTCUNTCUNTCU \n",
            " ==============\n",
            "\n",
            "\n",
            "\n",
            "Aaron Swartz \n",
            "\n",
            "Stop fucking reverting my goddamn edits!!! I think Aaron Swartz is a dumb-ass, and he should have been\n",
            "killed a long time ago.  I know where you live; I WILL KILL YOU IF YOU REVERT ANY MORE PAGES!!!!! \n",
            " ==============\n",
            "\n",
            "\n",
            "\n",
            "You are a gay homo. I hope you choke on your penis and die. I am sending a big bleck guy to jizz in your face. \n",
            " ==============\n",
            "\n",
            "\n",
            "\n",
            "No, you are the racist, you goddamn neo-Nazi \n",
            "\n",
            " YOU BIG BOY \n",
            " ==============\n",
            "\n",
            "\n",
            "\n",
            "You fascit Nazi! You socialist bastard! You filthy Hippy! \n",
            "\n",
            "You dare touch my edits again and I'll go to where you live and kick your ass in person. It shouldn't be hard to find. Communes smell worse than slaughter houses. I make edits. I don't vandilaze. Get off your high horse. \n",
            " ==============\n",
            "\n",
            "\n",
            "\n",
            "User:NHRHS2010 is a homo like mitt romney is. \n",
            "User:NHRHS2010 is a homo like mitt romney is.\n",
            " User:Enigmaman is a homo like mitt romney is. \n",
            "User:Enigmaman is a homo like mitt romney is.\n",
            " User:NHRHS2010 is a homo like mitt romney is. \n",
            "User:NHRHS2010 is a homo like mitt romney is.\n",
            " User:Enigmaman is a homo like mitt romney is. \n",
            "User:Enigmaman is a homo like mitt romney is.== User:NHRHS2010 is a homo like mitt romney is. ==\n",
            "User:NHRHS2010 is a homo like mitt romney is.\n",
            " User:Enigmaman is a homo like mitt romney is. \n",
            "User:Enigmaman is a homo like mitt romney is.== User:NHRHS2010 is a homo like mitt romney is. ==\n",
            "User:NHRHS2010 is a homo like mitt romney is.\n",
            " User:Enigmaman is a homo like mitt romney is. \n",
            "User:Enigmaman is a homo like mitt romney is.== User:NHRHS2010 is a homo like mitt romney is. ==\n",
            "User:NHRHS2010 is a homo like mitt romney is.\n",
            " User:Enigmaman is a homo like mitt romney is. \n",
            "User:Enigmaman is a homo like mitt romney is.== User:NHRHS2010 is a homo like mitt romney is. ==\n",
            "User:NHRHS2010 is a homo like mitt romney is.\n",
            " User:Enigmaman is a homo like mitt romney is. \n",
            "User:Enigmaman is a homo like mitt romney is.== User:NHRHS2010 is a homo like mitt romney is. ==\n",
            "User:NHRHS2010 is a homo like mitt romney is.\n",
            " User:Enigmaman is a homo like mitt romney is. \n",
            "User:Enigmaman is a homo like mitt romney is.== User:NHRHS2010 is a homo like mitt romney is. ==\n",
            "User:NHRHS2010 is a homo like mitt romney is.\n",
            " User:Enigmaman is a homo like mitt romney is. \n",
            "User:Enigmaman is a homo like mitt romney is.== User:NHRHS2010 is a homo like mitt romney is. ==\n",
            "User:NHRHS2010 is a homo like mitt romney is.\n",
            " User:Enigmaman is a homo like mitt romney is. \n",
            "User:Enigmaman is a homo like mitt romney is.== User:NHRHS2010 is a homo like mitt romney is. ==\n",
            "User:NHRHS2010 is a homo like mitt romney is.\n",
            " User:Enigmaman is a homo like mitt romney is. \n",
            "User:Enigmaman is a homo like mitt romney is.== User:NHRHS2010 is a homo like mitt romney is. ==\n",
            "User:NHRHS2010 is a homo like mitt romney is.\n",
            " User:Enigmaman is a homo like mitt romney is. \n",
            "User:Enigmaman is a homo like mitt romney is.== User:NHRHS2010 is a homo like mitt romney is. ==\n",
            "User:NHRHS2010 is a homo like mitt romney is.\n",
            " User:Enigmaman is a homo like mitt romney is. \n",
            "User:Enigmaman is a homo like mitt romney is.== User:NHRHS2010 is a homo like mitt romney is. ==\n",
            "User:NHRHS2010 is a homo like mitt romney is.\n",
            " User:Enigmaman is a homo like mitt romney is. \n",
            "User:Enigmaman is a homo like mitt romney is.== User:NHRHS2010 is a homo like mitt romney is. ==\n",
            "User:NHRHS2010 is a homo like mitt romney is.\n",
            " User:Enigmaman is a homo like mitt romney is. \n",
            "User:Enigmaman is a homo like mitt romney is.== User:NHRHS2010 is a homo like mitt romney is. ==\n",
            "User:NHRHS2010 is a homo like mitt romney is.\n",
            " User:Enigmaman is a homo like mitt romney is. \n",
            "User:Enigmaman is a homo like mitt romney is.== User:NHRHS2010 is a homo like mitt romney is. ==\n",
            "User:NHRHS2010 is a homo like mitt romney is.\n",
            " User:Enigmaman is a homo like mitt romney is. \n",
            "User:Enigmaman is a homo like mitt romney is.== User:NHRHS2010 is a homo like mitt romney is. ==\n",
            "User:NHRHS2010 is a homo like mitt romney is.\n",
            " User:Enigmaman is a homo like mitt romney is. \n",
            "User:Enigmaman is a homo like mitt romney is.== User:NHRHS2010 is a homo like mitt romney is. ==\n",
            "User:NHRHS2010 is a homo like mitt romney is.\n",
            " User:Enigmaman is a homo like mitt romney is. \n",
            "User:Enigmaman is a homo like mitt romney is.== User:NHRHS2010 is a homo like mitt romney is. ==\n",
            "User:NHRHS2010 is a homo like mitt romney is.\n",
            " User:Enigmaman is a homo like mitt romney is. \n",
            "User:Enigmaman is a homo like mitt romney is.== User:NHRHS2010 is a homo like mitt romney is. ==\n",
            "User:NHRHS2010 is a homo like mitt romney is.\n",
            " User:Enigmaman is a homo like mitt romney is. \n",
            "User:Enigmaman is a homo like mitt romney is.== User:NHRHS2010 is a homo like mitt romney is. ==\n",
            "User:NHRHS2010 is a homo like mitt romney is.\n",
            " User:Enigmaman is a homo like mitt romney is. \n",
            "User:Enigmaman is a homo like mitt romney is.== User:NHRHS2010 is a homo like mitt romney is. ==\n",
            "User:NHRHS2010 is a homo like mitt romney is.\n",
            " User:Enigmaman is a homo like mitt romney is. NEWL \n",
            " ==============\n",
            "\n",
            "\n",
            "\n",
            "FUCK OF NAZI PROPAGANDA\n",
            "odpierdalcie sie jebani faszyści od Polski !!!!!!!!!!! \n",
            " ==============\n",
            "\n",
            "\n",
            "\n",
            "Im sorry are you fucking stupid that nice person just gave me a warning then you fucking block me, nigger cunt eat pussy bitch \n",
            " ==============\n",
            "\n",
            "\n",
            "\n",
            "\"\n",
            "Actually I am fully Arabic and Islamic and the correct spelling unlike how you stupid christians have been spelling it is \"\"Mou'ammar Al Qadhdhaffy\"\". But you are all too racist and white and stupid too accept that124.180.159.192  \" \n",
            " ==============\n",
            "\n",
            "\n",
            "\n",
            "Pedophiles, sex criminals, Imperial Japan, Nazi Germany and other such degenerate ilk also are minority views and for good reason.  And by the way, showcasing your stalker skills and googling my name is quite retarded and anti-social behavior.  Please stop and seek therapy cause you need it. \n",
            " ==============\n",
            "\n",
            "\n",
            "\n"
          ],
          "name": "stdout"
        }
      ]
    },
    {
      "cell_type": "markdown",
      "metadata": {
        "id": "lyfqOEKqn7hT",
        "colab_type": "text"
      },
      "source": [
        "## **Feature Engineering**"
      ]
    },
    {
      "cell_type": "markdown",
      "metadata": {
        "id": "ttxMrFFCoMiF",
        "colab_type": "text"
      },
      "source": [
        "### 1. **Direct features**\n",
        "\n",
        "Features which are a directly due to words/content.We would be exploring the following techniques\n",
        "\n",
        "* Word frequency features\n",
        "    * Count features\n",
        "    * Bigrams\n",
        "    * Trigrams\n",
        "* Vector distance mapping of words (Eg: Word2Vec)\n",
        "* Sentiment scores"
      ]
    },
    {
      "cell_type": "markdown",
      "metadata": {
        "id": "dY7VqqMdpJKd",
        "colab_type": "text"
      },
      "source": [
        "### **Indirect features:**\n",
        "\n",
        "Some more experimental features.\n",
        "count of sentences\n",
        "* count of words\n",
        "* count of unique words\n",
        "* count of letters\n",
        "* count of punctuations\n",
        "* count of uppercase words/letters\n",
        "* count of stop words\n",
        "* Avg length of each word"
      ]
    },
    {
      "cell_type": "code",
      "metadata": {
        "id": "bodkdkmssLEb",
        "colab_type": "code",
        "colab": {}
      },
      "source": [
        "def clean_text(text):\n",
        "    text = text.lower()\n",
        "    text = re.sub(r\"what's\", \"what is \", text)\n",
        "    text = re.sub(r\"\\'s\", \" \", text)\n",
        "    text = re.sub(r\"\\'ve\", \" have \", text)\n",
        "    text = re.sub(r\"can't\", \"cannot \", text)\n",
        "    text = re.sub(r\"n't\", \" not \", text)\n",
        "    text = re.sub(r\"i'm\", \"i am \", text)\n",
        "    text = re.sub(r\"\\'re\", \" are \", text)\n",
        "    text = re.sub(r\"\\'d\", \" would \", text)\n",
        "    text = re.sub(r\"\\'ll\", \" will \", text)\n",
        "    text = re.sub(r\"\\'scuse\", \" excuse \", text)\n",
        "    text = re.sub('\\W', ' ', text)\n",
        "    text = re.sub('\\s+', ' ', text)\n",
        "    text = text.strip(' ')\n",
        "    return text\n",
        "# clean the comment_text in train_df [Thanks to Pulkit Jha for the useful pointer.]\n",
        "df_train['comment_text'] = df_train['comment_text'].map(lambda com : clean_text(com))"
      ],
      "execution_count": 0,
      "outputs": []
    },
    {
      "cell_type": "code",
      "metadata": {
        "id": "Nhnb7f1GCxrd",
        "colab_type": "code",
        "colab": {}
      },
      "source": [
        "def clean(comment):\n",
        "    \"\"\"\n",
        "    This function receives comments and returns clean word-list\n",
        "    \"\"\"\n",
        "    #Convert to lower case , so that Hi and hi are the same\n",
        "    comment=comment.lower()\n",
        "    #remove \\n\n",
        "    comment=re.sub(\"\\\\n\",\"\",comment)\n",
        "    # remove leaky elements like ip,user\n",
        "    comment=re.sub(\"\\d{1,3}\\.\\d{1,3}\\.\\d{1,3}\\.\\d{1,3}\",\"\",comment)\n",
        "    #removing usernames\n",
        "    comment=re.sub(\"\\[\\[.*\\]\",\"\",comment)\n",
        "    \n",
        "    #Split the sentences into words\n",
        "    words=tokenizer.tokenize(comment)\n",
        "    \n",
        "    # (')aphostophe  replacement (ie)   you're --> you are  \n",
        "    # ( basic dictionary lookup : master dictionary present in a hidden block of code)\n",
        "    words=[APPO[word] if word in APPO else word for word in words]\n",
        "    words=[lem.lemmatize(word, \"v\") for word in words]\n",
        "    words = [w for w in words if not w in eng_stopwords]\n",
        "    \n",
        "    clean_sent=\" \".join(words)\n",
        "    # remove any non alphanum,digit character\n",
        "    #clean_sent=re.sub(\"\\W+\",\" \",clean_sent)\n",
        "    #clean_sent=re.sub(\"  \",\" \",clean_sent)\n",
        "    return(clean_sent)\n"
      ],
      "execution_count": 0,
      "outputs": []
    },
    {
      "cell_type": "code",
      "metadata": {
        "id": "WemP1QQOp0WE",
        "colab_type": "code",
        "colab": {}
      },
      "source": [
        "## Indirect features\n",
        "\n",
        "def indirect_features_1(df):\n",
        "    #Sentense count in each comment:\n",
        "        #  '\\n' can be used to count the number of sentences in each comment\n",
        "    df['count_sent']=df[\"comment_text\"].progress_apply(lambda x: len(re.findall(\"\\n\",str(x)))+1)\n",
        "\n",
        "    #Word count in each comment:\n",
        "    df['count_word']=df[\"comment_text\"].progress_apply(lambda x: len(str(x).split()))\n",
        "\n",
        "    #Unique word count\n",
        "    df['count_unique_word']=df[\"comment_text\"].progress_apply(lambda x: len(set(str(x).split())))\n",
        "\n",
        "    #Letter count\n",
        "    df['count_letters']=df[\"comment_text\"].progress_apply(lambda x: len(str(x)))\n",
        "\n",
        "    #punctuation count\n",
        "    df[\"count_punctuations\"] =df[\"comment_text\"].progress_apply(lambda x: len([c for c in str(x) if c in string.punctuation]))\n",
        "\n",
        "    #upper case words count\n",
        "    df[\"count_words_upper\"] = df[\"comment_text\"].progress_apply(lambda x: len([w for w in str(x).split() if w.isupper()]))\n",
        "\n",
        "    #title case words count\n",
        "    df[\"count_words_title\"] = df[\"comment_text\"].progress_apply(lambda x: len([w for w in str(x).split() if w.istitle()]))\n",
        "\n",
        "    #Number of stopwords\n",
        "    df[\"count_stopwords\"] = df[\"comment_text\"].progress_apply(lambda x: len([w for w in str(x).lower().split() if w in eng_stopwords]))\n",
        "\n",
        "    #Average length of the words\n",
        "    df[\"mean_word_len\"] = df[\"comment_text\"].progress_apply(lambda x: np.mean([len(w) for w in str(x).split()]))\n",
        "    \n",
        "    #derived features\n",
        "    #Word count percent in each comment:\n",
        "    df['word_unique_percent']=df['count_unique_word']*100/df['count_word']\n",
        "    #derived features\n",
        "    #Punct percent in each comment:\n",
        "    df['punct_percent']=df['count_punctuations']*100/df['count_word']\n",
        "    \n",
        "    return df"
      ],
      "execution_count": 0,
      "outputs": []
    },
    {
      "cell_type": "code",
      "metadata": {
        "id": "sJJUn9ZTCwk-",
        "colab_type": "code",
        "colab": {}
      },
      "source": [
        ""
      ],
      "execution_count": 0,
      "outputs": []
    },
    {
      "cell_type": "code",
      "metadata": {
        "id": "kDC9pTOdqT_d",
        "colab_type": "code",
        "outputId": "d0d14611-0c7e-4333-e3b6-f416e515e35b",
        "colab": {
          "base_uri": "https://localhost:8080/",
          "height": 173
        }
      },
      "source": [
        "df_train = indirect_features_1(df_train)"
      ],
      "execution_count": 29,
      "outputs": [
        {
          "output_type": "stream",
          "text": [
            "100%|██████████| 159571/159571 [00:00<00:00, 425138.58it/s]\n",
            "100%|██████████| 159571/159571 [00:00<00:00, 189399.00it/s]\n",
            "100%|██████████| 159571/159571 [00:01<00:00, 91076.36it/s]\n",
            "100%|██████████| 159571/159571 [00:00<00:00, 584650.08it/s]\n",
            "100%|██████████| 159571/159571 [00:04<00:00, 39118.63it/s]\n",
            "100%|██████████| 159571/159571 [00:01<00:00, 108688.79it/s]\n",
            "100%|██████████| 159571/159571 [00:01<00:00, 110295.28it/s]\n",
            "100%|██████████| 159571/159571 [00:02<00:00, 78837.99it/s]\n",
            "100%|██████████| 159571/159571 [00:04<00:00, 32527.97it/s]\n"
          ],
          "name": "stderr"
        }
      ]
    },
    {
      "cell_type": "code",
      "metadata": {
        "id": "MN8zVvn6qT8l",
        "colab_type": "code",
        "outputId": "8ce0e64c-fc67-417b-c3c1-0e7ced30c3ec",
        "colab": {
          "base_uri": "https://localhost:8080/",
          "height": 254
        }
      },
      "source": [
        "df_train.head(2)"
      ],
      "execution_count": 30,
      "outputs": [
        {
          "output_type": "execute_result",
          "data": {
            "text/html": [
              "<div>\n",
              "<style scoped>\n",
              "    .dataframe tbody tr th:only-of-type {\n",
              "        vertical-align: middle;\n",
              "    }\n",
              "\n",
              "    .dataframe tbody tr th {\n",
              "        vertical-align: top;\n",
              "    }\n",
              "\n",
              "    .dataframe thead th {\n",
              "        text-align: right;\n",
              "    }\n",
              "</style>\n",
              "<table border=\"1\" class=\"dataframe\">\n",
              "  <thead>\n",
              "    <tr style=\"text-align: right;\">\n",
              "      <th></th>\n",
              "      <th>id</th>\n",
              "      <th>comment_text</th>\n",
              "      <th>toxic</th>\n",
              "      <th>severe_toxic</th>\n",
              "      <th>obscene</th>\n",
              "      <th>threat</th>\n",
              "      <th>insult</th>\n",
              "      <th>identity_hate</th>\n",
              "      <th>count_sent</th>\n",
              "      <th>count_word</th>\n",
              "      <th>count_unique_word</th>\n",
              "      <th>count_letters</th>\n",
              "      <th>count_punctuations</th>\n",
              "      <th>count_words_upper</th>\n",
              "      <th>count_words_title</th>\n",
              "      <th>count_stopwords</th>\n",
              "      <th>mean_word_len</th>\n",
              "      <th>word_unique_percent</th>\n",
              "      <th>punct_percent</th>\n",
              "    </tr>\n",
              "  </thead>\n",
              "  <tbody>\n",
              "    <tr>\n",
              "      <th>0</th>\n",
              "      <td>0000997932d777bf</td>\n",
              "      <td>explanation why the edits made under my userna...</td>\n",
              "      <td>0</td>\n",
              "      <td>0</td>\n",
              "      <td>0</td>\n",
              "      <td>0</td>\n",
              "      <td>0</td>\n",
              "      <td>0</td>\n",
              "      <td>1</td>\n",
              "      <td>50</td>\n",
              "      <td>45</td>\n",
              "      <td>264</td>\n",
              "      <td>0</td>\n",
              "      <td>0</td>\n",
              "      <td>0</td>\n",
              "      <td>23</td>\n",
              "      <td>4.3</td>\n",
              "      <td>90.0</td>\n",
              "      <td>0.0</td>\n",
              "    </tr>\n",
              "    <tr>\n",
              "      <th>1</th>\n",
              "      <td>000103f0d9cfb60f</td>\n",
              "      <td>d aww he matches this background colour i am s...</td>\n",
              "      <td>0</td>\n",
              "      <td>0</td>\n",
              "      <td>0</td>\n",
              "      <td>0</td>\n",
              "      <td>0</td>\n",
              "      <td>0</td>\n",
              "      <td>1</td>\n",
              "      <td>20</td>\n",
              "      <td>20</td>\n",
              "      <td>103</td>\n",
              "      <td>0</td>\n",
              "      <td>0</td>\n",
              "      <td>0</td>\n",
              "      <td>6</td>\n",
              "      <td>4.2</td>\n",
              "      <td>100.0</td>\n",
              "      <td>0.0</td>\n",
              "    </tr>\n",
              "  </tbody>\n",
              "</table>\n",
              "</div>"
            ],
            "text/plain": [
              "                 id  ... punct_percent\n",
              "0  0000997932d777bf  ...           0.0\n",
              "1  000103f0d9cfb60f  ...           0.0\n",
              "\n",
              "[2 rows x 19 columns]"
            ]
          },
          "metadata": {
            "tags": []
          },
          "execution_count": 30
        }
      ]
    },
    {
      "cell_type": "markdown",
      "metadata": {
        "id": "ST5wN59KphEM",
        "colab_type": "text"
      },
      "source": [
        "### **Leaky features:**\n",
        "\n",
        "From the example, we know that the comments contain identifier information (eg: IP, username,etc.). We can create features out of them but, it will certainly lead to overfitting to this specific Wikipedia use-case.\n",
        "\n",
        "* toxic IP scores\n",
        "* toxic users\n",
        "\n",
        "**Note:** Creating the indirect and leaky features first. There are two reasons for this,\n",
        "\n",
        "* Count features(Direct features) are useful only if they are created from a clean corpus\n",
        "* Also the indirect features help compensate for the loss of information when cleaning the dataset\n"
      ]
    },
    {
      "cell_type": "code",
      "metadata": {
        "id": "-UtlL9gx503H",
        "colab_type": "code",
        "colab": {}
      },
      "source": [
        "# ### Processiing pipeline \n",
        "\n",
        "# def processing_all_data_frames(df_change):\n",
        "#     df_change['comment_text'] = df_change['comment_text'].map(lambda com : clean_text(com))\n",
        "#     df_change = indirect_features_1(df_change)\n",
        "#     return df_change"
      ],
      "execution_count": 0,
      "outputs": []
    },
    {
      "cell_type": "code",
      "metadata": {
        "id": "g5Xt8osV50mH",
        "colab_type": "code",
        "colab": {}
      },
      "source": [
        "### IDF(t) = log_e(Total number of documents / Number of documents with term t in it)."
      ],
      "execution_count": 0,
      "outputs": []
    },
    {
      "cell_type": "code",
      "metadata": {
        "id": "w-T3cHkO50eH",
        "colab_type": "code",
        "outputId": "6fd68834-8ea7-4414-f7ff-b370198f9ca1",
        "colab": {
          "base_uri": "https://localhost:8080/",
          "height": 139
        }
      },
      "source": [
        "from sklearn.feature_extraction.text import CountVectorizer\n",
        "from sklearn.feature_extraction.text import TfidfVectorizer\n",
        "vect = TfidfVectorizer(max_features=5000,stop_words='english')\n",
        "vect"
      ],
      "execution_count": 32,
      "outputs": [
        {
          "output_type": "execute_result",
          "data": {
            "text/plain": [
              "TfidfVectorizer(analyzer='word', binary=False, decode_error='strict',\n",
              "                dtype=<class 'numpy.float64'>, encoding='utf-8',\n",
              "                input='content', lowercase=True, max_df=1.0, max_features=5000,\n",
              "                min_df=1, ngram_range=(1, 1), norm='l2', preprocessor=None,\n",
              "                smooth_idf=True, stop_words='english', strip_accents=None,\n",
              "                sublinear_tf=False, token_pattern='(?u)\\\\b\\\\w\\\\w+\\\\b',\n",
              "                tokenizer=None, use_idf=True, vocabulary=None)"
            ]
          },
          "metadata": {
            "tags": []
          },
          "execution_count": 32
        }
      ]
    },
    {
      "cell_type": "code",
      "metadata": {
        "id": "mHCG8h0q50bk",
        "colab_type": "code",
        "colab": {}
      },
      "source": [
        "X = df_train.comment_text\n",
        "test_X = df_test.comment_text"
      ],
      "execution_count": 0,
      "outputs": []
    },
    {
      "cell_type": "code",
      "metadata": {
        "id": "NHbG-NQzzhqe",
        "colab_type": "code",
        "colab": {
          "base_uri": "https://localhost:8080/",
          "height": 52
        },
        "outputId": "6261a158-9faa-474a-c215-f52e4cf61c67"
      },
      "source": [
        "X_dtm = vect.fit_transform(X)\n",
        "# examine the document-term matrix created from X_train\n",
        "X_dtm"
      ],
      "execution_count": 35,
      "outputs": [
        {
          "output_type": "execute_result",
          "data": {
            "text/plain": [
              "<159571x5000 sparse matrix of type '<class 'numpy.float64'>'\n",
              "\twith 3178792 stored elements in Compressed Sparse Row format>"
            ]
          },
          "metadata": {
            "tags": []
          },
          "execution_count": 35
        }
      ]
    },
    {
      "cell_type": "code",
      "metadata": {
        "id": "hof6_yvEzh5b",
        "colab_type": "code",
        "colab": {
          "base_uri": "https://localhost:8080/",
          "height": 52
        },
        "outputId": "ed082ed8-d7c6-4ab8-f5ca-f23dfc015d08"
      },
      "source": [
        "test_X_dtm = vect.transform(test_X)\n",
        "# examine the document-term matrix from X_test\n",
        "test_X_dtm"
      ],
      "execution_count": 36,
      "outputs": [
        {
          "output_type": "execute_result",
          "data": {
            "text/plain": [
              "<153164x5000 sparse matrix of type '<class 'numpy.float64'>'\n",
              "\twith 2642044 stored elements in Compressed Sparse Row format>"
            ]
          },
          "metadata": {
            "tags": []
          },
          "execution_count": 36
        }
      ]
    },
    {
      "cell_type": "code",
      "metadata": {
        "id": "JDEn8aaizh3H",
        "colab_type": "code",
        "colab": {
          "base_uri": "https://localhost:8080/",
          "height": 280
        },
        "outputId": "5fc1d751-d1d5-4f2d-f90e-5d6cdadd7a06"
      },
      "source": [
        "# import and instantiate the Logistic Regression model\n",
        "from sklearn.linear_model import LogisticRegression\n",
        "from sklearn.metrics import accuracy_score\n",
        "logreg = LogisticRegression(C=12.0)\n",
        "\n",
        "cols_target = ['obscene','insult','toxic','severe_toxic','identity_hate','threat']\n",
        "\n",
        "# create submission file\n",
        "\n",
        "sample_submission_path = \"gdrive/My Drive/Learning/Sentiment_classifier/jigsaw-toxic-comment-classification-challenge/sample_submission.csv\"\n",
        "submission_binary = pd.read_csv(sample_submission_path)\n",
        "\n",
        "for label in cols_target:\n",
        "    print('... Processing {}'.format(label))\n",
        "    y = df_train[label]\n",
        "    # train the model using X_dtm & y\n",
        "    logreg.fit(X_dtm, y)\n",
        "    # compute the training accuracy\n",
        "    y_pred_X = logreg.predict(X_dtm)\n",
        "    print('Training accuracy is {}'.format(accuracy_score(y, y_pred_X)))\n",
        "    # compute the predicted probabilities for X_test_dtm\n",
        "    test_y_prob = logreg.predict_proba(test_X_dtm)[:,1]\n",
        "    submission_binary[label] = test_y_prob"
      ],
      "execution_count": 41,
      "outputs": [
        {
          "output_type": "stream",
          "text": [
            "... Processing obscene\n"
          ],
          "name": "stdout"
        },
        {
          "output_type": "stream",
          "text": [
            "/usr/local/lib/python3.6/dist-packages/sklearn/linear_model/logistic.py:432: FutureWarning: Default solver will be changed to 'lbfgs' in 0.22. Specify a solver to silence this warning.\n",
            "  FutureWarning)\n"
          ],
          "name": "stderr"
        },
        {
          "output_type": "stream",
          "text": [
            "Training accuracy is 0.9832300355327722\n",
            "... Processing insult\n",
            "Training accuracy is 0.9755469352200588\n",
            "... Processing toxic\n",
            "Training accuracy is 0.9639846839337975\n",
            "... Processing severe_toxic\n",
            "Training accuracy is 0.9920850279812748\n",
            "... Processing identity_hate\n",
            "Training accuracy is 0.9939713356436947\n",
            "... Processing threat\n",
            "Training accuracy is 0.9981199591404453\n"
          ],
          "name": "stdout"
        }
      ]
    },
    {
      "cell_type": "code",
      "metadata": {
        "id": "2I0XYe0iDQG7",
        "colab_type": "code",
        "colab": {}
      },
      "source": [
        "out_submission_path = \"gdrive/My Drive/Learning/Sentiment_classifier/jigsaw-toxic-comment-classification-challenge/submission_binary.csv\"\n",
        "submission_binary.to_csv(out_submission_path, index=False)"
      ],
      "execution_count": 0,
      "outputs": []
    },
    {
      "cell_type": "code",
      "metadata": {
        "id": "qA8f3z2c5C1x",
        "colab_type": "code",
        "colab": {}
      },
      "source": [
        ""
      ],
      "execution_count": 0,
      "outputs": []
    }
  ]
}